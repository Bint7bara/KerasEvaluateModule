{
  "nbformat": 4,
  "nbformat_minor": 0,
  "metadata": {
    "colab": {
      "provenance": [],
      "collapsed_sections": [],
      "include_colab_link": true
    },
    "kernelspec": {
      "name": "python3",
      "display_name": "Python 3"
    },
    "language_info": {
      "name": "python"
    }
  },
  "cells": [
    {
      "cell_type": "markdown",
      "metadata": {
        "id": "view-in-github",
        "colab_type": "text"
      },
      "source": [
        "<a href=\"https://colab.research.google.com/github/Bint7bara/KerasEvaluateModule/blob/master/ensemble_keras_binary_classifier_12.ipynb\" target=\"_parent\"><img src=\"https://colab.research.google.com/assets/colab-badge.svg\" alt=\"Open In Colab\"/></a>"
      ]
    },
    {
      "cell_type": "code",
      "execution_count": 1,
      "metadata": {
        "id": "xmgJcdXRUHi6",
        "colab": {
          "base_uri": "https://localhost:8080/"
        },
        "outputId": "32943354-c88b-4a63-e4e4-0d36d34f15b4"
      },
      "outputs": [
        {
          "output_type": "stream",
          "name": "stdout",
          "text": [
            "Looking in indexes: https://pypi.org/simple, https://us-python.pkg.dev/colab-wheels/public/simple/\n",
            "Collecting tensorflow_decision_forests==0.2.5\n",
            "  Downloading tensorflow_decision_forests-0.2.5-cp37-cp37m-manylinux_2_17_x86_64.manylinux2014_x86_64.whl (15.8 MB)\n",
            "\u001b[K     |████████████████████████████████| 15.8 MB 50 kB/s \n",
            "\u001b[?25hRequirement already satisfied: six in /usr/local/lib/python3.7/dist-packages (from tensorflow_decision_forests==0.2.5) (1.15.0)\n",
            "Requirement already satisfied: tensorflow~=2.9.0 in /usr/local/lib/python3.7/dist-packages (from tensorflow_decision_forests==0.2.5) (2.9.2)\n",
            "Collecting wurlitzer\n",
            "  Downloading wurlitzer-3.0.2-py3-none-any.whl (7.3 kB)\n",
            "Requirement already satisfied: pandas in /usr/local/lib/python3.7/dist-packages (from tensorflow_decision_forests==0.2.5) (1.3.5)\n",
            "Requirement already satisfied: wheel in /usr/local/lib/python3.7/dist-packages (from tensorflow_decision_forests==0.2.5) (0.38.3)\n",
            "Requirement already satisfied: absl-py in /usr/local/lib/python3.7/dist-packages (from tensorflow_decision_forests==0.2.5) (1.3.0)\n",
            "Requirement already satisfied: numpy in /usr/local/lib/python3.7/dist-packages (from tensorflow_decision_forests==0.2.5) (1.21.6)\n",
            "Requirement already satisfied: setuptools in /usr/local/lib/python3.7/dist-packages (from tensorflow~=2.9.0->tensorflow_decision_forests==0.2.5) (57.4.0)\n",
            "Requirement already satisfied: libclang>=13.0.0 in /usr/local/lib/python3.7/dist-packages (from tensorflow~=2.9.0->tensorflow_decision_forests==0.2.5) (14.0.6)\n",
            "Requirement already satisfied: flatbuffers<2,>=1.12 in /usr/local/lib/python3.7/dist-packages (from tensorflow~=2.9.0->tensorflow_decision_forests==0.2.5) (1.12)\n",
            "Requirement already satisfied: h5py>=2.9.0 in /usr/local/lib/python3.7/dist-packages (from tensorflow~=2.9.0->tensorflow_decision_forests==0.2.5) (3.1.0)\n",
            "Requirement already satisfied: packaging in /usr/local/lib/python3.7/dist-packages (from tensorflow~=2.9.0->tensorflow_decision_forests==0.2.5) (21.3)\n",
            "Requirement already satisfied: typing-extensions>=3.6.6 in /usr/local/lib/python3.7/dist-packages (from tensorflow~=2.9.0->tensorflow_decision_forests==0.2.5) (4.1.1)\n",
            "Requirement already satisfied: tensorflow-io-gcs-filesystem>=0.23.1 in /usr/local/lib/python3.7/dist-packages (from tensorflow~=2.9.0->tensorflow_decision_forests==0.2.5) (0.27.0)\n",
            "Requirement already satisfied: google-pasta>=0.1.1 in /usr/local/lib/python3.7/dist-packages (from tensorflow~=2.9.0->tensorflow_decision_forests==0.2.5) (0.2.0)\n",
            "Requirement already satisfied: opt-einsum>=2.3.2 in /usr/local/lib/python3.7/dist-packages (from tensorflow~=2.9.0->tensorflow_decision_forests==0.2.5) (3.3.0)\n",
            "Requirement already satisfied: tensorboard<2.10,>=2.9 in /usr/local/lib/python3.7/dist-packages (from tensorflow~=2.9.0->tensorflow_decision_forests==0.2.5) (2.9.1)\n",
            "Requirement already satisfied: keras-preprocessing>=1.1.1 in /usr/local/lib/python3.7/dist-packages (from tensorflow~=2.9.0->tensorflow_decision_forests==0.2.5) (1.1.2)\n",
            "Requirement already satisfied: keras<2.10.0,>=2.9.0rc0 in /usr/local/lib/python3.7/dist-packages (from tensorflow~=2.9.0->tensorflow_decision_forests==0.2.5) (2.9.0)\n",
            "Requirement already satisfied: protobuf<3.20,>=3.9.2 in /usr/local/lib/python3.7/dist-packages (from tensorflow~=2.9.0->tensorflow_decision_forests==0.2.5) (3.19.6)\n",
            "Requirement already satisfied: gast<=0.4.0,>=0.2.1 in /usr/local/lib/python3.7/dist-packages (from tensorflow~=2.9.0->tensorflow_decision_forests==0.2.5) (0.4.0)\n",
            "Requirement already satisfied: tensorflow-estimator<2.10.0,>=2.9.0rc0 in /usr/local/lib/python3.7/dist-packages (from tensorflow~=2.9.0->tensorflow_decision_forests==0.2.5) (2.9.0)\n",
            "Requirement already satisfied: termcolor>=1.1.0 in /usr/local/lib/python3.7/dist-packages (from tensorflow~=2.9.0->tensorflow_decision_forests==0.2.5) (2.1.0)\n",
            "Requirement already satisfied: wrapt>=1.11.0 in /usr/local/lib/python3.7/dist-packages (from tensorflow~=2.9.0->tensorflow_decision_forests==0.2.5) (1.14.1)\n",
            "Requirement already satisfied: astunparse>=1.6.0 in /usr/local/lib/python3.7/dist-packages (from tensorflow~=2.9.0->tensorflow_decision_forests==0.2.5) (1.6.3)\n",
            "Requirement already satisfied: grpcio<2.0,>=1.24.3 in /usr/local/lib/python3.7/dist-packages (from tensorflow~=2.9.0->tensorflow_decision_forests==0.2.5) (1.50.0)\n",
            "Requirement already satisfied: cached-property in /usr/local/lib/python3.7/dist-packages (from h5py>=2.9.0->tensorflow~=2.9.0->tensorflow_decision_forests==0.2.5) (1.5.2)\n",
            "Requirement already satisfied: google-auth-oauthlib<0.5,>=0.4.1 in /usr/local/lib/python3.7/dist-packages (from tensorboard<2.10,>=2.9->tensorflow~=2.9.0->tensorflow_decision_forests==0.2.5) (0.4.6)\n",
            "Requirement already satisfied: werkzeug>=1.0.1 in /usr/local/lib/python3.7/dist-packages (from tensorboard<2.10,>=2.9->tensorflow~=2.9.0->tensorflow_decision_forests==0.2.5) (1.0.1)\n",
            "Requirement already satisfied: tensorboard-plugin-wit>=1.6.0 in /usr/local/lib/python3.7/dist-packages (from tensorboard<2.10,>=2.9->tensorflow~=2.9.0->tensorflow_decision_forests==0.2.5) (1.8.1)\n",
            "Requirement already satisfied: markdown>=2.6.8 in /usr/local/lib/python3.7/dist-packages (from tensorboard<2.10,>=2.9->tensorflow~=2.9.0->tensorflow_decision_forests==0.2.5) (3.4.1)\n",
            "Requirement already satisfied: tensorboard-data-server<0.7.0,>=0.6.0 in /usr/local/lib/python3.7/dist-packages (from tensorboard<2.10,>=2.9->tensorflow~=2.9.0->tensorflow_decision_forests==0.2.5) (0.6.1)\n",
            "Requirement already satisfied: requests<3,>=2.21.0 in /usr/local/lib/python3.7/dist-packages (from tensorboard<2.10,>=2.9->tensorflow~=2.9.0->tensorflow_decision_forests==0.2.5) (2.23.0)\n",
            "Requirement already satisfied: google-auth<3,>=1.6.3 in /usr/local/lib/python3.7/dist-packages (from tensorboard<2.10,>=2.9->tensorflow~=2.9.0->tensorflow_decision_forests==0.2.5) (2.14.1)\n",
            "Requirement already satisfied: pyasn1-modules>=0.2.1 in /usr/local/lib/python3.7/dist-packages (from google-auth<3,>=1.6.3->tensorboard<2.10,>=2.9->tensorflow~=2.9.0->tensorflow_decision_forests==0.2.5) (0.2.8)\n",
            "Requirement already satisfied: rsa<5,>=3.1.4 in /usr/local/lib/python3.7/dist-packages (from google-auth<3,>=1.6.3->tensorboard<2.10,>=2.9->tensorflow~=2.9.0->tensorflow_decision_forests==0.2.5) (4.9)\n",
            "Requirement already satisfied: cachetools<6.0,>=2.0.0 in /usr/local/lib/python3.7/dist-packages (from google-auth<3,>=1.6.3->tensorboard<2.10,>=2.9->tensorflow~=2.9.0->tensorflow_decision_forests==0.2.5) (5.2.0)\n",
            "Requirement already satisfied: requests-oauthlib>=0.7.0 in /usr/local/lib/python3.7/dist-packages (from google-auth-oauthlib<0.5,>=0.4.1->tensorboard<2.10,>=2.9->tensorflow~=2.9.0->tensorflow_decision_forests==0.2.5) (1.3.1)\n",
            "Requirement already satisfied: importlib-metadata>=4.4 in /usr/local/lib/python3.7/dist-packages (from markdown>=2.6.8->tensorboard<2.10,>=2.9->tensorflow~=2.9.0->tensorflow_decision_forests==0.2.5) (4.13.0)\n",
            "Requirement already satisfied: zipp>=0.5 in /usr/local/lib/python3.7/dist-packages (from importlib-metadata>=4.4->markdown>=2.6.8->tensorboard<2.10,>=2.9->tensorflow~=2.9.0->tensorflow_decision_forests==0.2.5) (3.10.0)\n",
            "Requirement already satisfied: pyasn1<0.5.0,>=0.4.6 in /usr/local/lib/python3.7/dist-packages (from pyasn1-modules>=0.2.1->google-auth<3,>=1.6.3->tensorboard<2.10,>=2.9->tensorflow~=2.9.0->tensorflow_decision_forests==0.2.5) (0.4.8)\n",
            "Requirement already satisfied: idna<3,>=2.5 in /usr/local/lib/python3.7/dist-packages (from requests<3,>=2.21.0->tensorboard<2.10,>=2.9->tensorflow~=2.9.0->tensorflow_decision_forests==0.2.5) (2.10)\n",
            "Requirement already satisfied: urllib3!=1.25.0,!=1.25.1,<1.26,>=1.21.1 in /usr/local/lib/python3.7/dist-packages (from requests<3,>=2.21.0->tensorboard<2.10,>=2.9->tensorflow~=2.9.0->tensorflow_decision_forests==0.2.5) (1.24.3)\n",
            "Requirement already satisfied: chardet<4,>=3.0.2 in /usr/local/lib/python3.7/dist-packages (from requests<3,>=2.21.0->tensorboard<2.10,>=2.9->tensorflow~=2.9.0->tensorflow_decision_forests==0.2.5) (3.0.4)\n",
            "Requirement already satisfied: certifi>=2017.4.17 in /usr/local/lib/python3.7/dist-packages (from requests<3,>=2.21.0->tensorboard<2.10,>=2.9->tensorflow~=2.9.0->tensorflow_decision_forests==0.2.5) (2022.9.24)\n",
            "Requirement already satisfied: oauthlib>=3.0.0 in /usr/local/lib/python3.7/dist-packages (from requests-oauthlib>=0.7.0->google-auth-oauthlib<0.5,>=0.4.1->tensorboard<2.10,>=2.9->tensorflow~=2.9.0->tensorflow_decision_forests==0.2.5) (3.2.2)\n",
            "Requirement already satisfied: pyparsing!=3.0.5,>=2.0.2 in /usr/local/lib/python3.7/dist-packages (from packaging->tensorflow~=2.9.0->tensorflow_decision_forests==0.2.5) (3.0.9)\n",
            "Requirement already satisfied: python-dateutil>=2.7.3 in /usr/local/lib/python3.7/dist-packages (from pandas->tensorflow_decision_forests==0.2.5) (2.8.2)\n",
            "Requirement already satisfied: pytz>=2017.3 in /usr/local/lib/python3.7/dist-packages (from pandas->tensorflow_decision_forests==0.2.5) (2022.6)\n",
            "Installing collected packages: wurlitzer, tensorflow-decision-forests\n",
            "Successfully installed tensorflow-decision-forests-0.2.5 wurlitzer-3.0.2\n"
          ]
        },
        {
          "output_type": "stream",
          "name": "stderr",
          "text": [
            "WARNING:root:TensorFlow Decision Forests 0.2.5 is compatible with the following TensorFlow Versions: ['2.9.0']. However, TensorFlow 2.9.2 was detected. This can cause issues with the TF API and symbols in the custom C++ ops. See the TF and TF-DF compatibility table at https://github.com/tensorflow/decision-forests/blob/main/documentation/known_issues.md#compatibility-table.\n",
            "WARNING:root:TF Parameter Server distributed training not available (this is expected for the pre-build release).\n"
          ]
        }
      ],
      "source": [
        "\n",
        "!pip install  tensorflow_decision_forests==0.2.5\n",
        "import numpy as np\n",
        "import seaborn as sns\n",
        "import matplotlib.pyplot as plt\n",
        "from tensorflow.keras.models import Sequential\n",
        "from tensorflow.keras.layers import Dense\n",
        "import matplotlib.pyplot as plt\n",
        "import numpy as np\n",
        "import tensorflow_decision_forests as tfdf"
      ]
    },
    {
      "cell_type": "code",
      "source": [
        "import tensorflow as tf\n",
        "print(tf.__version__)"
      ],
      "metadata": {
        "colab": {
          "base_uri": "https://localhost:8080/"
        },
        "id": "mX0vCxZak4Cc",
        "outputId": "bad9e0bd-2ea6-4068-adb4-54ed1b65c593"
      },
      "execution_count": 2,
      "outputs": [
        {
          "output_type": "stream",
          "name": "stdout",
          "text": [
            "2.9.2\n"
          ]
        }
      ]
    },
    {
      "cell_type": "code",
      "source": [
        "seed = 7\n",
        "\n",
        "# load pima indians dataset\n",
        "dataset = np.loadtxt(\"NewGencode4DLTraining2.csv\", delimiter=\",\")\n",
        "# split into input (X) and output (Y) variables\n",
        "X = dataset[:,0:12]\n",
        "Y = dataset[:,12]"
      ],
      "metadata": {
        "id": "QgfBKL6jVvH5"
      },
      "execution_count": 4,
      "outputs": []
    },
    {
      "cell_type": "code",
      "source": [
        "from sklearn.model_selection import train_test_split\n",
        "\n",
        "X_train, X_test, y_train, y_test = train_test_split(\n",
        "    X, Y, \n",
        "    test_size=0.2, random_state=42\n",
        ")\n",
        "X_train,y_train"
      ],
      "metadata": {
        "id": "wP2j36LOtyFZ",
        "colab": {
          "base_uri": "https://localhost:8080/"
        },
        "outputId": "e8ed3e6a-ec26-4a68-a57b-c26b8bd4f2d6"
      },
      "execution_count": 5,
      "outputs": [
        {
          "output_type": "execute_result",
          "data": {
            "text/plain": [
              "(array([[ 2.69465671e-05,  1.36104279e-06,  8.57400000e-01, ...,\n",
              "          5.40386800e-02, -5.42105263e-01,  1.31400000e+03],\n",
              "        [ 2.02332789e-04,  1.18597914e-07,  1.28090000e+00, ...,\n",
              "          1.02175970e-01, -3.40088106e-01,  6.84000000e+02],\n",
              "        [ 5.49928044e-06,  3.14581615e-05,  5.23900000e-01, ...,\n",
              "          4.72553700e-02, -2.36842105e-01,  2.31000000e+02],\n",
              "        ...,\n",
              "        [ 3.39736457e-07,  4.06913407e-07,  1.23220000e+00, ...,\n",
              "          7.06860710e-02, -3.11538462e-01,  3.15000000e+02],\n",
              "        [ 2.04195878e-05,  6.72560437e-05,  9.38900000e-01, ...,\n",
              "          1.00467290e-01, -1.06481482e+00,  1.65000000e+02],\n",
              "        [ 4.55885483e-06,  3.10816341e-06,  1.10460000e+00, ...,\n",
              "          1.12017804e-01,  1.83272727e-01,  8.28000000e+02]]),\n",
              " array([1., 1., 0., ..., 0., 1., 1.]))"
            ]
          },
          "metadata": {},
          "execution_count": 5
        }
      ]
    },
    {
      "cell_type": "code",
      "source": [
        "# Input features.\n",
        "num_features = 12\n",
        "raw_features = tf.keras.layers.Input(shape=(num_features,))\n",
        "\n",
        "# Stage 1\n",
        "# =======\n",
        "\n",
        "# Common learnable pre-processing\n",
        "preprocessor = tf.keras.layers.Dense(10, activation=tf.nn.relu6)\n",
        "preprocess_features = preprocessor(raw_features)\n",
        "\n",
        "# Stage 2\n",
        "# =======\n",
        "\n",
        "# Model #1: NN\n",
        "m1_z1 = tf.keras.layers.Dense(5, activation=tf.nn.relu6)(preprocess_features)\n",
        "m1_pred = tf.keras.layers.Dense(1, activation=tf.nn.sigmoid)(m1_z1)\n",
        "\n",
        "# Model #2: NN\n",
        "m2_z1 = tf.keras.layers.Dense(5, activation=tf.nn.relu6)(preprocess_features)\n",
        "m2_pred = tf.keras.layers.Dense(1, activation=tf.nn.sigmoid)(m2_z1)\n",
        "\n",
        "\n",
        "# Model #3: DF\n",
        "model_3 = tfdf.keras.RandomForestModel(num_trees=1000, random_seed=1234)\n",
        "m3_pred = model_3(preprocess_features)\n",
        "\n",
        "# Model #4: DF\n",
        "model_4 = tfdf.keras.RandomForestModel(\n",
        "    num_trees=1000,\n",
        "    #split_axis=\"SPARSE_OBLIQUE\", # Uncomment this line to increase the quality of this model\n",
        "    random_seed=4567)\n",
        "m4_pred = model_4(preprocess_features)\n",
        "\n",
        "# Since TF-DF uses deterministic learning algorithms, you should set the model's\n",
        "# training seed to different values otherwise both\n",
        "# `tfdf.keras.RandomForestModel` will be exactly the same.\n",
        "\n",
        "# Stage 3\n",
        "# =======\n",
        "\n",
        "mean_nn_only = tf.reduce_mean(tf.stack([m1_pred, m2_pred], axis=0), axis=0)\n",
        "mean_nn_and_df = tf.reduce_mean(\n",
        "    tf.stack([m1_pred, m2_pred, m3_pred, m4_pred], axis=0), axis=0)\n",
        "\n",
        "# Keras Models\n",
        "# ============\n",
        "\n",
        "ensemble_nn_only = tf.keras.models.Model(raw_features, mean_nn_only)\n",
        "ensemble_nn_and_df = tf.keras.models.Model(raw_features, mean_nn_and_df)"
      ],
      "metadata": {
        "colab": {
          "base_uri": "https://localhost:8080/"
        },
        "id": "7mVKuIWFmHWy",
        "outputId": "76bbf90f-d21f-446e-a76a-19edae41ae2f"
      },
      "execution_count": 6,
      "outputs": [
        {
          "output_type": "stream",
          "name": "stdout",
          "text": [
            "Use /tmp/tmph6x19rf6 as temporary training directory\n",
            "Warning: The model was called directly (i.e. using `model(data)` instead of using `model.predict(data)`) before being trained. The model will only return zeros until trained. The output shape might change after training Tensor(\"inputs:0\", shape=(None, 10), dtype=float32)\n"
          ]
        },
        {
          "output_type": "stream",
          "name": "stderr",
          "text": [
            "WARNING:absl:The model was called directly (i.e. using `model(data)` instead of using `model.predict(data)`) before being trained. The model will only return zeros until trained. The output shape might change after training Tensor(\"inputs:0\", shape=(None, 10), dtype=float32)\n"
          ]
        },
        {
          "output_type": "stream",
          "name": "stdout",
          "text": [
            "Use /tmp/tmpn4d0xv5y as temporary training directory\n",
            "Warning: The model was called directly (i.e. using `model(data)` instead of using `model.predict(data)`) before being trained. The model will only return zeros until trained. The output shape might change after training Tensor(\"inputs:0\", shape=(None, 10), dtype=float32)\n"
          ]
        },
        {
          "output_type": "stream",
          "name": "stderr",
          "text": [
            "WARNING:absl:The model was called directly (i.e. using `model(data)` instead of using `model.predict(data)`) before being trained. The model will only return zeros until trained. The output shape might change after training Tensor(\"inputs:0\", shape=(None, 10), dtype=float32)\n"
          ]
        }
      ]
    },
    {
      "cell_type": "code",
      "source": [
        "from keras.utils.vis_utils import plot_model\n",
        "\n",
        "plot_model(ensemble_nn_and_df, to_file=\"/tmp/model.png\", show_shapes=True)"
      ],
      "metadata": {
        "colab": {
          "base_uri": "https://localhost:8080/",
          "height": 352
        },
        "id": "c__8ivhfo_KO",
        "outputId": "2b411336-fc3e-45ec-8991-7454e5876ef6"
      },
      "execution_count": 7,
      "outputs": [
        {
          "output_type": "execute_result",
          "data": {
            "image/png": "[encoded data removed]",
            "text/plain": [
              "<IPython.core.display.Image object>"
            ]
          },
          "metadata": {},
          "execution_count": 7
        }
      ]
    },
    {
      "cell_type": "code",
      "source": [
        "%%time\n",
        "ensemble_nn_only.compile(\n",
        "        optimizer=tf.keras.optimizers.Adam(),\n",
        "        loss=tf.keras.losses.BinaryCrossentropy(),\n",
        "        metrics=[\"accuracy\"])\n",
        "\n",
        "ensemble_nn_only.fit(\n",
        "    X_train,\n",
        "    y_train,\n",
        "    batch_size=64,\n",
        "    epochs=100,\n",
        "    # We pass some validation for\n",
        "    # monitoring validation loss and metrics\n",
        "    # at the end of each epoch\n",
        "    validation_data=(X_test, y_test),\n",
        ")"
      ],
      "metadata": {
        "colab": {
          "base_uri": "https://localhost:8080/"
        },
        "id": "Kf4Zu6sGpTYg",
        "outputId": "dc81236b-2f8a-4d6a-bbfe-a3feddaecd79"
      },
      "execution_count": 8,
      "outputs": [
        {
          "output_type": "stream",
          "name": "stdout",
          "text": [
            "Epoch 1/100\n",
            "345/345 [==============================] - 2s 3ms/step - loss: 0.4923 - accuracy: 0.8187 - val_loss: 0.4575 - val_accuracy: 0.8381\n",
            "Epoch 2/100\n",
            "345/345 [==============================] - 1s 2ms/step - loss: 0.4434 - accuracy: 0.8380 - val_loss: 0.4345 - val_accuracy: 0.8390\n",
            "Epoch 3/100\n",
            "345/345 [==============================] - 1s 2ms/step - loss: 0.4263 - accuracy: 0.8403 - val_loss: 0.4241 - val_accuracy: 0.8377\n",
            "Epoch 4/100\n",
            "345/345 [==============================] - 1s 2ms/step - loss: 0.4164 - accuracy: 0.8424 - val_loss: 0.4163 - val_accuracy: 0.8432\n",
            "Epoch 5/100\n",
            "345/345 [==============================] - 1s 3ms/step - loss: 0.4103 - accuracy: 0.8449 - val_loss: 0.4112 - val_accuracy: 0.8392\n",
            "Epoch 6/100\n",
            "345/345 [==============================] - 1s 3ms/step - loss: 0.4040 - accuracy: 0.8466 - val_loss: 0.4076 - val_accuracy: 0.8459\n",
            "Epoch 7/100\n",
            "345/345 [==============================] - 1s 3ms/step - loss: 0.4019 - accuracy: 0.8505 - val_loss: 0.4040 - val_accuracy: 0.8399\n",
            "Epoch 8/100\n",
            "345/345 [==============================] - 1s 2ms/step - loss: 0.3998 - accuracy: 0.8437 - val_loss: 0.4028 - val_accuracy: 0.8499\n",
            "Epoch 9/100\n",
            "345/345 [==============================] - 1s 2ms/step - loss: 0.3970 - accuracy: 0.8473 - val_loss: 0.3990 - val_accuracy: 0.8499\n",
            "Epoch 10/100\n",
            "345/345 [==============================] - 1s 3ms/step - loss: 0.3944 - accuracy: 0.8486 - val_loss: 0.4008 - val_accuracy: 0.8352\n",
            "Epoch 11/100\n",
            "345/345 [==============================] - 1s 3ms/step - loss: 0.3930 - accuracy: 0.8461 - val_loss: 0.3982 - val_accuracy: 0.8542\n",
            "Epoch 12/100\n",
            "345/345 [==============================] - 1s 3ms/step - loss: 0.3919 - accuracy: 0.8533 - val_loss: 0.3935 - val_accuracy: 0.8555\n",
            "Epoch 13/100\n",
            "345/345 [==============================] - 1s 2ms/step - loss: 0.3897 - accuracy: 0.8521 - val_loss: 0.3918 - val_accuracy: 0.8566\n",
            "Epoch 14/100\n",
            "345/345 [==============================] - 1s 3ms/step - loss: 0.3880 - accuracy: 0.8526 - val_loss: 0.3905 - val_accuracy: 0.8529\n",
            "Epoch 15/100\n",
            "345/345 [==============================] - 1s 3ms/step - loss: 0.3856 - accuracy: 0.8590 - val_loss: 0.3924 - val_accuracy: 0.8462\n",
            "Epoch 16/100\n",
            "345/345 [==============================] - 1s 2ms/step - loss: 0.3832 - accuracy: 0.8624 - val_loss: 0.3877 - val_accuracy: 0.8539\n",
            "Epoch 17/100\n",
            "345/345 [==============================] - 1s 3ms/step - loss: 0.3802 - accuracy: 0.8616 - val_loss: 0.3884 - val_accuracy: 0.8520\n",
            "Epoch 18/100\n",
            "345/345 [==============================] - 1s 2ms/step - loss: 0.3764 - accuracy: 0.8680 - val_loss: 0.3793 - val_accuracy: 0.8798\n",
            "Epoch 19/100\n",
            "345/345 [==============================] - 1s 2ms/step - loss: 0.3708 - accuracy: 0.8764 - val_loss: 0.3735 - val_accuracy: 0.8829\n",
            "Epoch 20/100\n",
            "345/345 [==============================] - 1s 2ms/step - loss: 0.3638 - accuracy: 0.8835 - val_loss: 0.3646 - val_accuracy: 0.8849\n",
            "Epoch 21/100\n",
            "345/345 [==============================] - 1s 2ms/step - loss: 0.3597 - accuracy: 0.8883 - val_loss: 0.3651 - val_accuracy: 0.8827\n",
            "Epoch 22/100\n",
            "345/345 [==============================] - 1s 2ms/step - loss: 0.3570 - accuracy: 0.8906 - val_loss: 0.3598 - val_accuracy: 0.8874\n",
            "Epoch 23/100\n",
            "345/345 [==============================] - 1s 2ms/step - loss: 0.3545 - accuracy: 0.8939 - val_loss: 0.3564 - val_accuracy: 0.8912\n",
            "Epoch 24/100\n",
            "345/345 [==============================] - 1s 2ms/step - loss: 0.3519 - accuracy: 0.8962 - val_loss: 0.3547 - val_accuracy: 0.8937\n",
            "Epoch 25/100\n",
            "345/345 [==============================] - 1s 2ms/step - loss: 0.3529 - accuracy: 0.8958 - val_loss: 0.3533 - val_accuracy: 0.8934\n",
            "Epoch 26/100\n",
            "345/345 [==============================] - 1s 2ms/step - loss: 0.3510 - accuracy: 0.8972 - val_loss: 0.3501 - val_accuracy: 0.8981\n",
            "Epoch 27/100\n",
            "345/345 [==============================] - 1s 2ms/step - loss: 0.3496 - accuracy: 0.8967 - val_loss: 0.3502 - val_accuracy: 0.8977\n",
            "Epoch 28/100\n",
            "345/345 [==============================] - 1s 2ms/step - loss: 0.3491 - accuracy: 0.8978 - val_loss: 0.3523 - val_accuracy: 0.8956\n",
            "Epoch 29/100\n",
            "345/345 [==============================] - 1s 4ms/step - loss: 0.3494 - accuracy: 0.8990 - val_loss: 0.3514 - val_accuracy: 0.8986\n",
            "Epoch 30/100\n",
            "345/345 [==============================] - 1s 4ms/step - loss: 0.3482 - accuracy: 0.9004 - val_loss: 0.3497 - val_accuracy: 0.8977\n",
            "Epoch 31/100\n",
            "345/345 [==============================] - 1s 3ms/step - loss: 0.3388 - accuracy: 0.8996 - val_loss: 0.3233 - val_accuracy: 0.9012\n",
            "Epoch 32/100\n",
            "345/345 [==============================] - 1s 3ms/step - loss: 0.3148 - accuracy: 0.9009 - val_loss: 0.3086 - val_accuracy: 0.9017\n",
            "Epoch 33/100\n",
            "345/345 [==============================] - 1s 3ms/step - loss: 0.3025 - accuracy: 0.8984 - val_loss: 0.2948 - val_accuracy: 0.8956\n",
            "Epoch 34/100\n",
            "345/345 [==============================] - 1s 2ms/step - loss: 0.2876 - accuracy: 0.8982 - val_loss: 0.2882 - val_accuracy: 0.8992\n",
            "Epoch 35/100\n",
            "345/345 [==============================] - 1s 2ms/step - loss: 0.2758 - accuracy: 0.9004 - val_loss: 0.2706 - val_accuracy: 0.9010\n",
            "Epoch 36/100\n",
            "345/345 [==============================] - 1s 2ms/step - loss: 0.2681 - accuracy: 0.9020 - val_loss: 0.2642 - val_accuracy: 0.9023\n",
            "Epoch 37/100\n",
            "345/345 [==============================] - 1s 2ms/step - loss: 0.2639 - accuracy: 0.9008 - val_loss: 0.2591 - val_accuracy: 0.9019\n",
            "Epoch 38/100\n",
            "345/345 [==============================] - 1s 3ms/step - loss: 0.2582 - accuracy: 0.9024 - val_loss: 0.2576 - val_accuracy: 0.9014\n",
            "Epoch 39/100\n",
            "345/345 [==============================] - 1s 2ms/step - loss: 0.2590 - accuracy: 0.9012 - val_loss: 0.2568 - val_accuracy: 0.9021\n",
            "Epoch 40/100\n",
            "345/345 [==============================] - 1s 3ms/step - loss: 0.2567 - accuracy: 0.9013 - val_loss: 0.2556 - val_accuracy: 0.9023\n",
            "Epoch 41/100\n",
            "345/345 [==============================] - 1s 3ms/step - loss: 0.2539 - accuracy: 0.9024 - val_loss: 0.2613 - val_accuracy: 0.8952\n",
            "Epoch 42/100\n",
            "345/345 [==============================] - 1s 2ms/step - loss: 0.2529 - accuracy: 0.9023 - val_loss: 0.2755 - val_accuracy: 0.8901\n",
            "Epoch 43/100\n",
            "345/345 [==============================] - 1s 2ms/step - loss: 0.2540 - accuracy: 0.9019 - val_loss: 0.2578 - val_accuracy: 0.8992\n",
            "Epoch 44/100\n",
            "345/345 [==============================] - 1s 2ms/step - loss: 0.2534 - accuracy: 0.9022 - val_loss: 0.2617 - val_accuracy: 0.8961\n",
            "Epoch 45/100\n",
            "345/345 [==============================] - 1s 3ms/step - loss: 0.2538 - accuracy: 0.9017 - val_loss: 0.2523 - val_accuracy: 0.9021\n",
            "Epoch 46/100\n",
            "345/345 [==============================] - 1s 3ms/step - loss: 0.2517 - accuracy: 0.9035 - val_loss: 0.2560 - val_accuracy: 0.9010\n",
            "Epoch 47/100\n",
            "345/345 [==============================] - 1s 3ms/step - loss: 0.2525 - accuracy: 0.9020 - val_loss: 0.2524 - val_accuracy: 0.9026\n",
            "Epoch 48/100\n",
            "345/345 [==============================] - 1s 2ms/step - loss: 0.2509 - accuracy: 0.9024 - val_loss: 0.2647 - val_accuracy: 0.8927\n",
            "Epoch 49/100\n",
            "345/345 [==============================] - 1s 3ms/step - loss: 0.2537 - accuracy: 0.9010 - val_loss: 0.2637 - val_accuracy: 0.8952\n",
            "Epoch 50/100\n",
            "345/345 [==============================] - 1s 2ms/step - loss: 0.2514 - accuracy: 0.9014 - val_loss: 0.2538 - val_accuracy: 0.9015\n",
            "Epoch 51/100\n",
            "345/345 [==============================] - 1s 3ms/step - loss: 0.2507 - accuracy: 0.9041 - val_loss: 0.2551 - val_accuracy: 0.8999\n",
            "Epoch 52/100\n",
            "345/345 [==============================] - 1s 2ms/step - loss: 0.2528 - accuracy: 0.9022 - val_loss: 0.2574 - val_accuracy: 0.8983\n",
            "Epoch 53/100\n",
            "345/345 [==============================] - 1s 2ms/step - loss: 0.2486 - accuracy: 0.9032 - val_loss: 0.2546 - val_accuracy: 0.9006\n",
            "Epoch 54/100\n",
            "345/345 [==============================] - 1s 2ms/step - loss: 0.2524 - accuracy: 0.9011 - val_loss: 0.2510 - val_accuracy: 0.9048\n",
            "Epoch 55/100\n",
            "345/345 [==============================] - 1s 2ms/step - loss: 0.2506 - accuracy: 0.9034 - val_loss: 0.2606 - val_accuracy: 0.8968\n",
            "Epoch 56/100\n",
            "345/345 [==============================] - 1s 2ms/step - loss: 0.2500 - accuracy: 0.9031 - val_loss: 0.2610 - val_accuracy: 0.8956\n",
            "Epoch 57/100\n",
            "345/345 [==============================] - 1s 3ms/step - loss: 0.2509 - accuracy: 0.9014 - val_loss: 0.2513 - val_accuracy: 0.9023\n",
            "Epoch 58/100\n",
            "345/345 [==============================] - 1s 2ms/step - loss: 0.2506 - accuracy: 0.9031 - val_loss: 0.2527 - val_accuracy: 0.9026\n",
            "Epoch 59/100\n",
            "345/345 [==============================] - 1s 3ms/step - loss: 0.2508 - accuracy: 0.9021 - val_loss: 0.2517 - val_accuracy: 0.9043\n",
            "Epoch 60/100\n",
            "345/345 [==============================] - 1s 3ms/step - loss: 0.2508 - accuracy: 0.9025 - val_loss: 0.2550 - val_accuracy: 0.9001\n",
            "Epoch 61/100\n",
            "345/345 [==============================] - 1s 3ms/step - loss: 0.2501 - accuracy: 0.9030 - val_loss: 0.2517 - val_accuracy: 0.9053\n",
            "Epoch 62/100\n",
            "345/345 [==============================] - 1s 3ms/step - loss: 0.2489 - accuracy: 0.9036 - val_loss: 0.2510 - val_accuracy: 0.9030\n",
            "Epoch 63/100\n",
            "345/345 [==============================] - 1s 3ms/step - loss: 0.2483 - accuracy: 0.9043 - val_loss: 0.2501 - val_accuracy: 0.9046\n",
            "Epoch 64/100\n",
            "345/345 [==============================] - 1s 2ms/step - loss: 0.2501 - accuracy: 0.9038 - val_loss: 0.2598 - val_accuracy: 0.8983\n",
            "Epoch 65/100\n",
            "345/345 [==============================] - 1s 2ms/step - loss: 0.2499 - accuracy: 0.9034 - val_loss: 0.2501 - val_accuracy: 0.9034\n",
            "Epoch 66/100\n",
            "345/345 [==============================] - 1s 3ms/step - loss: 0.2512 - accuracy: 0.9030 - val_loss: 0.2536 - val_accuracy: 0.9015\n",
            "Epoch 67/100\n",
            "345/345 [==============================] - 1s 2ms/step - loss: 0.2500 - accuracy: 0.9034 - val_loss: 0.2522 - val_accuracy: 0.9015\n",
            "Epoch 68/100\n",
            "345/345 [==============================] - 1s 2ms/step - loss: 0.2481 - accuracy: 0.9052 - val_loss: 0.2505 - val_accuracy: 0.9039\n",
            "Epoch 69/100\n",
            "345/345 [==============================] - 1s 2ms/step - loss: 0.2493 - accuracy: 0.9037 - val_loss: 0.2624 - val_accuracy: 0.8952\n",
            "Epoch 70/100\n",
            "345/345 [==============================] - 1s 2ms/step - loss: 0.2493 - accuracy: 0.9038 - val_loss: 0.2520 - val_accuracy: 0.9014\n",
            "Epoch 71/100\n",
            "345/345 [==============================] - 1s 2ms/step - loss: 0.2496 - accuracy: 0.9040 - val_loss: 0.2508 - val_accuracy: 0.9032\n",
            "Epoch 72/100\n",
            "345/345 [==============================] - 1s 2ms/step - loss: 0.2496 - accuracy: 0.9033 - val_loss: 0.2516 - val_accuracy: 0.9024\n",
            "Epoch 73/100\n",
            "345/345 [==============================] - 1s 2ms/step - loss: 0.2497 - accuracy: 0.9037 - val_loss: 0.2788 - val_accuracy: 0.8878\n",
            "Epoch 74/100\n",
            "345/345 [==============================] - 1s 2ms/step - loss: 0.2501 - accuracy: 0.9045 - val_loss: 0.2506 - val_accuracy: 0.9039\n",
            "Epoch 75/100\n",
            "345/345 [==============================] - 1s 2ms/step - loss: 0.2501 - accuracy: 0.9031 - val_loss: 0.2648 - val_accuracy: 0.8945\n",
            "Epoch 76/100\n",
            "345/345 [==============================] - 1s 2ms/step - loss: 0.2507 - accuracy: 0.9021 - val_loss: 0.2652 - val_accuracy: 0.8963\n",
            "Epoch 77/100\n",
            "345/345 [==============================] - 1s 3ms/step - loss: 0.2490 - accuracy: 0.9045 - val_loss: 0.2532 - val_accuracy: 0.9012\n",
            "Epoch 78/100\n",
            "345/345 [==============================] - 1s 3ms/step - loss: 0.2496 - accuracy: 0.9039 - val_loss: 0.2504 - val_accuracy: 0.9017\n",
            "Epoch 79/100\n",
            "345/345 [==============================] - 1s 2ms/step - loss: 0.2486 - accuracy: 0.9041 - val_loss: 0.2526 - val_accuracy: 0.9010\n",
            "Epoch 80/100\n",
            "345/345 [==============================] - 1s 2ms/step - loss: 0.2487 - accuracy: 0.9038 - val_loss: 0.2501 - val_accuracy: 0.9028\n",
            "Epoch 81/100\n",
            "345/345 [==============================] - 1s 2ms/step - loss: 0.2481 - accuracy: 0.9043 - val_loss: 0.2531 - val_accuracy: 0.9028\n",
            "Epoch 82/100\n",
            "345/345 [==============================] - 1s 2ms/step - loss: 0.2501 - accuracy: 0.9036 - val_loss: 0.2644 - val_accuracy: 0.8950\n",
            "Epoch 83/100\n",
            "345/345 [==============================] - 1s 2ms/step - loss: 0.2483 - accuracy: 0.9047 - val_loss: 0.2492 - val_accuracy: 0.9050\n",
            "Epoch 84/100\n",
            "345/345 [==============================] - 1s 2ms/step - loss: 0.2478 - accuracy: 0.9041 - val_loss: 0.2516 - val_accuracy: 0.9017\n",
            "Epoch 85/100\n",
            "345/345 [==============================] - 1s 2ms/step - loss: 0.2496 - accuracy: 0.9037 - val_loss: 0.2540 - val_accuracy: 0.9001\n",
            "Epoch 86/100\n",
            "345/345 [==============================] - 1s 2ms/step - loss: 0.2476 - accuracy: 0.9046 - val_loss: 0.2494 - val_accuracy: 0.9052\n",
            "Epoch 87/100\n",
            "345/345 [==============================] - 1s 2ms/step - loss: 0.2480 - accuracy: 0.9045 - val_loss: 0.2534 - val_accuracy: 0.9026\n",
            "Epoch 88/100\n",
            "345/345 [==============================] - 1s 3ms/step - loss: 0.2486 - accuracy: 0.9044 - val_loss: 0.2682 - val_accuracy: 0.8925\n",
            "Epoch 89/100\n",
            "345/345 [==============================] - 1s 2ms/step - loss: 0.2487 - accuracy: 0.9029 - val_loss: 0.2509 - val_accuracy: 0.9012\n",
            "Epoch 90/100\n",
            "345/345 [==============================] - 1s 2ms/step - loss: 0.2476 - accuracy: 0.9042 - val_loss: 0.2537 - val_accuracy: 0.9005\n",
            "Epoch 91/100\n",
            "345/345 [==============================] - 1s 2ms/step - loss: 0.2480 - accuracy: 0.9029 - val_loss: 0.2477 - val_accuracy: 0.9053\n",
            "Epoch 92/100\n",
            "345/345 [==============================] - 1s 2ms/step - loss: 0.2476 - accuracy: 0.9045 - val_loss: 0.2524 - val_accuracy: 0.9015\n",
            "Epoch 93/100\n",
            "345/345 [==============================] - 1s 2ms/step - loss: 0.2467 - accuracy: 0.9047 - val_loss: 0.2491 - val_accuracy: 0.9030\n",
            "Epoch 94/100\n",
            "345/345 [==============================] - 1s 2ms/step - loss: 0.2473 - accuracy: 0.9044 - val_loss: 0.2470 - val_accuracy: 0.9035\n",
            "Epoch 95/100\n",
            "345/345 [==============================] - 1s 2ms/step - loss: 0.2463 - accuracy: 0.9057 - val_loss: 0.2478 - val_accuracy: 0.9034\n",
            "Epoch 96/100\n",
            "345/345 [==============================] - 1s 3ms/step - loss: 0.2472 - accuracy: 0.9041 - val_loss: 0.2475 - val_accuracy: 0.9053\n",
            "Epoch 97/100\n",
            "345/345 [==============================] - 1s 2ms/step - loss: 0.2469 - accuracy: 0.9052 - val_loss: 0.2545 - val_accuracy: 0.9003\n",
            "Epoch 98/100\n",
            "345/345 [==============================] - 1s 2ms/step - loss: 0.2475 - accuracy: 0.9037 - val_loss: 0.2482 - val_accuracy: 0.9034\n",
            "Epoch 99/100\n",
            "345/345 [==============================] - 1s 2ms/step - loss: 0.2457 - accuracy: 0.9046 - val_loss: 0.2491 - val_accuracy: 0.9026\n",
            "Epoch 100/100\n",
            "345/345 [==============================] - 1s 2ms/step - loss: 0.2463 - accuracy: 0.9051 - val_loss: 0.2505 - val_accuracy: 0.9032\n",
            "CPU times: user 1min 33s, sys: 4.76 s, total: 1min 38s\n",
            "Wall time: 1min 28s\n"
          ]
        },
        {
          "output_type": "execute_result",
          "data": {
            "text/plain": [
              "<keras.callbacks.History at 0x7f9f310ae4d0>"
            ]
          },
          "metadata": {},
          "execution_count": 8
        }
      ]
    },
    {
      "cell_type": "code",
      "source": [
        "evaluation_nn_only = ensemble_nn_only.evaluate(X_test, y_test, batch_size=64)\n",
        "print(\"test loss, test acc:\", evaluation_nn_only)"
      ],
      "metadata": {
        "colab": {
          "base_uri": "https://localhost:8080/"
        },
        "id": "mNedl5m20PDB",
        "outputId": "eb4fe3cb-e11c-4102-edcb-43a359367f50"
      },
      "execution_count": 9,
      "outputs": [
        {
          "output_type": "stream",
          "name": "stdout",
          "text": [
            "87/87 [==============================] - 0s 2ms/step - loss: 0.2505 - accuracy: 0.9032\n",
            "test loss, test acc: [0.25046414136886597, 0.9031731486320496]\n"
          ]
        }
      ]
    },
    {
      "cell_type": "code",
      "source": [
        "model_3.compile([\"accuracy\"])\n",
        "model_4.compile([\"accuracy\"])\n"
      ],
      "metadata": {
        "id": "LalYa5DK8DbP"
      },
      "execution_count": 11,
      "outputs": []
    },
    {
      "cell_type": "code",
      "source": [
        "model_3.fit(X_train,y_train)\n",
        "model_4.fit(X_train,y_train)\n"
      ],
      "metadata": {
        "colab": {
          "base_uri": "https://localhost:8080/"
        },
        "id": "GOPmllQ87S5w",
        "outputId": "79aaf356-0f4f-4fce-89d4-8868c175aff9"
      },
      "execution_count": 15,
      "outputs": [
        {
          "output_type": "stream",
          "name": "stdout",
          "text": [
            "Reading training dataset...\n",
            "Training dataset read in 0:00:00.176310. Found 22056 examples.\n",
            "Training model...\n",
            "Model trained in 0:00:56.680677\n",
            "Compiling model...\n",
            "Model compiled.\n",
            "Reading training dataset...\n",
            "Training dataset read in 0:00:00.195192. Found 22056 examples.\n",
            "Training model...\n",
            "Model trained in 0:00:56.674637\n",
            "Compiling model...\n",
            "Model compiled.\n"
          ]
        },
        {
          "output_type": "execute_result",
          "data": {
            "text/plain": [
              "<keras.callbacks.History at 0x7f9f2adfa310>"
            ]
          },
          "metadata": {},
          "execution_count": 15
        }
      ]
    },
    {
      "cell_type": "code",
      "source": [
        "evaluation_df3_only = model_3.evaluate(\n",
        "    X_test, y_test, return_dict=True)\n",
        "evaluation_df4_only = model_4.evaluate(\n",
        "    X_test,y_test, return_dict=True)\n"
      ],
      "metadata": {
        "colab": {
          "base_uri": "https://localhost:8080/"
        },
        "id": "V91JIbuA8bWL",
        "outputId": "c5c88276-e2ab-4397-c73f-76eb44eb6c37"
      },
      "execution_count": 16,
      "outputs": [
        {
          "output_type": "stream",
          "name": "stdout",
          "text": [
            "173/173 [==============================] - 2s 11ms/step - loss: 0.0000e+00 - accuracy: 0.9490\n",
            "173/173 [==============================] - 2s 9ms/step - loss: 0.0000e+00 - accuracy: 0.9478\n"
          ]
        }
      ]
    },
    {
      "cell_type": "code",
      "source": [
        "print(\"Accuracy (DF #3 only): \", evaluation_df3_only[\"accuracy\"])\n",
        "print(\"Accuracy (DF #4 only): \", evaluation_df4_only[\"accuracy\"])"
      ],
      "metadata": {
        "colab": {
          "base_uri": "https://localhost:8080/"
        },
        "id": "LAVwf1xo9RHZ",
        "outputId": "55e760ee-7647-4740-f8c3-3b41cace3f7b"
      },
      "execution_count": 17,
      "outputs": [
        {
          "output_type": "stream",
          "name": "stdout",
          "text": [
            "Accuracy (DF #3 only):  0.9490480422973633\n",
            "Accuracy (DF #4 only):  0.9477787613868713\n"
          ]
        }
      ]
    },
    {
      "cell_type": "code",
      "source": [
        "ensemble_nn_and_df.compile(\n",
        "    loss=tf.keras.losses.BinaryCrossentropy(), metrics=[\"accuracy\"])\n",
        "\n",
        "\n",
        "evaluation_nn_and_df = ensemble_nn_and_df.evaluate(X_test)\n",
        "\n",
        "print(\"Accuracy (2xNN and 2xDF): \", evaluation_nn_and_df[\"accuracy\"])\n",
        "print(\"Loss (2xNN and 2xDF): \", evaluation_nn_and_df[\"loss\"])"
      ],
      "metadata": {
        "colab": {
          "base_uri": "https://localhost:8080/",
          "height": 1000
        },
        "id": "3363w6wc9lfR",
        "outputId": "08846760-2341-4ac5-8bbf-ab00832a3ab8"
      },
      "execution_count": 18,
      "outputs": [
        {
          "output_type": "stream",
          "name": "stderr",
          "text": [
            "WARNING:absl:Registering feature \"data:0\" not used by the model.\n"
          ]
        },
        {
          "output_type": "error",
          "ename": "Exception",
          "evalue": "ignored",
          "traceback": [
            "\u001b[0;31m---------------------------------------------------------------------------\u001b[0m",
            "\u001b[0;31mException\u001b[0m                                 Traceback (most recent call last)",
            "\u001b[0;32m<ipython-input-18-97c5202391fb>\u001b[0m in \u001b[0;36m<module>\u001b[0;34m\u001b[0m\n\u001b[1;32m      3\u001b[0m \u001b[0;34m\u001b[0m\u001b[0m\n\u001b[1;32m      4\u001b[0m \u001b[0;34m\u001b[0m\u001b[0m\n\u001b[0;32m----> 5\u001b[0;31m \u001b[0mevaluation_nn_and_df\u001b[0m \u001b[0;34m=\u001b[0m \u001b[0mensemble_nn_and_df\u001b[0m\u001b[0;34m.\u001b[0m\u001b[0mevaluate\u001b[0m\u001b[0;34m(\u001b[0m\u001b[0mX_test\u001b[0m\u001b[0;34m)\u001b[0m\u001b[0;34m\u001b[0m\u001b[0;34m\u001b[0m\u001b[0m\n\u001b[0m\u001b[1;32m      6\u001b[0m \u001b[0;34m\u001b[0m\u001b[0m\n\u001b[1;32m      7\u001b[0m \u001b[0mprint\u001b[0m\u001b[0;34m(\u001b[0m\u001b[0;34m\"Accuracy (2xNN and 2xDF): \"\u001b[0m\u001b[0;34m,\u001b[0m \u001b[0mevaluation_nn_and_df\u001b[0m\u001b[0;34m[\u001b[0m\u001b[0;34m\"accuracy\"\u001b[0m\u001b[0;34m]\u001b[0m\u001b[0;34m)\u001b[0m\u001b[0;34m\u001b[0m\u001b[0;34m\u001b[0m\u001b[0m\n",
            "\u001b[0;32m/usr/local/lib/python3.7/dist-packages/keras/utils/traceback_utils.py\u001b[0m in \u001b[0;36merror_handler\u001b[0;34m(*args, **kwargs)\u001b[0m\n\u001b[1;32m     65\u001b[0m     \u001b[0;32mexcept\u001b[0m \u001b[0mException\u001b[0m \u001b[0;32mas\u001b[0m \u001b[0me\u001b[0m\u001b[0;34m:\u001b[0m  \u001b[0;31m# pylint: disable=broad-except\u001b[0m\u001b[0;34m\u001b[0m\u001b[0;34m\u001b[0m\u001b[0m\n\u001b[1;32m     66\u001b[0m       \u001b[0mfiltered_tb\u001b[0m \u001b[0;34m=\u001b[0m \u001b[0m_process_traceback_frames\u001b[0m\u001b[0;34m(\u001b[0m\u001b[0me\u001b[0m\u001b[0;34m.\u001b[0m\u001b[0m__traceback__\u001b[0m\u001b[0;34m)\u001b[0m\u001b[0;34m\u001b[0m\u001b[0;34m\u001b[0m\u001b[0m\n\u001b[0;32m---> 67\u001b[0;31m       \u001b[0;32mraise\u001b[0m \u001b[0me\u001b[0m\u001b[0;34m.\u001b[0m\u001b[0mwith_traceback\u001b[0m\u001b[0;34m(\u001b[0m\u001b[0mfiltered_tb\u001b[0m\u001b[0;34m)\u001b[0m \u001b[0;32mfrom\u001b[0m \u001b[0;32mNone\u001b[0m\u001b[0;34m\u001b[0m\u001b[0;34m\u001b[0m\u001b[0m\n\u001b[0m\u001b[1;32m     68\u001b[0m     \u001b[0;32mfinally\u001b[0m\u001b[0;34m:\u001b[0m\u001b[0;34m\u001b[0m\u001b[0;34m\u001b[0m\u001b[0m\n\u001b[1;32m     69\u001b[0m       \u001b[0;32mdel\u001b[0m \u001b[0mfiltered_tb\u001b[0m\u001b[0;34m\u001b[0m\u001b[0;34m\u001b[0m\u001b[0m\n",
            "\u001b[0;32m/usr/local/lib/python3.7/dist-packages/keras/engine/training.py\u001b[0m in \u001b[0;36mtf__test_function\u001b[0;34m(iterator)\u001b[0m\n\u001b[1;32m     13\u001b[0m                 \u001b[0;32mtry\u001b[0m\u001b[0;34m:\u001b[0m\u001b[0;34m\u001b[0m\u001b[0;34m\u001b[0m\u001b[0m\n\u001b[1;32m     14\u001b[0m                     \u001b[0mdo_return\u001b[0m \u001b[0;34m=\u001b[0m \u001b[0;32mTrue\u001b[0m\u001b[0;34m\u001b[0m\u001b[0;34m\u001b[0m\u001b[0m\n\u001b[0;32m---> 15\u001b[0;31m                     \u001b[0mretval_\u001b[0m \u001b[0;34m=\u001b[0m \u001b[0mag__\u001b[0m\u001b[0;34m.\u001b[0m\u001b[0mconverted_call\u001b[0m\u001b[0;34m(\u001b[0m\u001b[0mag__\u001b[0m\u001b[0;34m.\u001b[0m\u001b[0mld\u001b[0m\u001b[0;34m(\u001b[0m\u001b[0mstep_function\u001b[0m\u001b[0;34m)\u001b[0m\u001b[0;34m,\u001b[0m \u001b[0;34m(\u001b[0m\u001b[0mag__\u001b[0m\u001b[0;34m.\u001b[0m\u001b[0mld\u001b[0m\u001b[0;34m(\u001b[0m\u001b[0mself\u001b[0m\u001b[0;34m)\u001b[0m\u001b[0;34m,\u001b[0m \u001b[0mag__\u001b[0m\u001b[0;34m.\u001b[0m\u001b[0mld\u001b[0m\u001b[0;34m(\u001b[0m\u001b[0miterator\u001b[0m\u001b[0;34m)\u001b[0m\u001b[0;34m)\u001b[0m\u001b[0;34m,\u001b[0m \u001b[0;32mNone\u001b[0m\u001b[0;34m,\u001b[0m \u001b[0mfscope\u001b[0m\u001b[0;34m)\u001b[0m\u001b[0;34m\u001b[0m\u001b[0;34m\u001b[0m\u001b[0m\n\u001b[0m\u001b[1;32m     16\u001b[0m                 \u001b[0;32mexcept\u001b[0m\u001b[0;34m:\u001b[0m\u001b[0;34m\u001b[0m\u001b[0;34m\u001b[0m\u001b[0m\n\u001b[1;32m     17\u001b[0m                     \u001b[0mdo_return\u001b[0m \u001b[0;34m=\u001b[0m \u001b[0;32mFalse\u001b[0m\u001b[0;34m\u001b[0m\u001b[0;34m\u001b[0m\u001b[0m\n",
            "\u001b[0;32m/usr/local/lib/python3.7/dist-packages/tensorflow_decision_forests/keras/core.py\u001b[0m in \u001b[0;36mtf__call\u001b[0;34m(self, inputs, training)\u001b[0m\n\u001b[1;32m     73\u001b[0m                 \u001b[0mnormalized_inputs\u001b[0m \u001b[0;34m=\u001b[0m \u001b[0mag__\u001b[0m\u001b[0;34m.\u001b[0m\u001b[0mUndefined\u001b[0m\u001b[0;34m(\u001b[0m\u001b[0;34m'normalized_inputs'\u001b[0m\u001b[0;34m)\u001b[0m\u001b[0;34m\u001b[0m\u001b[0;34m\u001b[0m\u001b[0m\n\u001b[1;32m     74\u001b[0m                 \u001b[0mpredictions\u001b[0m \u001b[0;34m=\u001b[0m \u001b[0mag__\u001b[0m\u001b[0;34m.\u001b[0m\u001b[0mUndefined\u001b[0m\u001b[0;34m(\u001b[0m\u001b[0;34m'predictions'\u001b[0m\u001b[0;34m)\u001b[0m\u001b[0;34m\u001b[0m\u001b[0;34m\u001b[0m\u001b[0m\n\u001b[0;32m---> 75\u001b[0;31m                 \u001b[0mag__\u001b[0m\u001b[0;34m.\u001b[0m\u001b[0mif_stmt\u001b[0m\u001b[0;34m(\u001b[0m\u001b[0;34m(\u001b[0m\u001b[0mag__\u001b[0m\u001b[0;34m.\u001b[0m\u001b[0mld\u001b[0m\u001b[0;34m(\u001b[0m\u001b[0mself\u001b[0m\u001b[0;34m)\u001b[0m\u001b[0;34m.\u001b[0m\u001b[0m_semantics\u001b[0m \u001b[0;32mis\u001b[0m \u001b[0;32mNone\u001b[0m\u001b[0;34m)\u001b[0m\u001b[0;34m,\u001b[0m \u001b[0mif_body_2\u001b[0m\u001b[0;34m,\u001b[0m \u001b[0melse_body_2\u001b[0m\u001b[0;34m,\u001b[0m \u001b[0mget_state_2\u001b[0m\u001b[0;34m,\u001b[0m \u001b[0mset_state_2\u001b[0m\u001b[0;34m,\u001b[0m \u001b[0;34m(\u001b[0m\u001b[0;34m'do_return'\u001b[0m\u001b[0;34m,\u001b[0m \u001b[0;34m'retval_'\u001b[0m\u001b[0;34m)\u001b[0m\u001b[0;34m,\u001b[0m \u001b[0;36m2\u001b[0m\u001b[0;34m)\u001b[0m\u001b[0;34m\u001b[0m\u001b[0;34m\u001b[0m\u001b[0m\n\u001b[0m\u001b[1;32m     76\u001b[0m                 \u001b[0;32mreturn\u001b[0m \u001b[0mfscope\u001b[0m\u001b[0;34m.\u001b[0m\u001b[0mret\u001b[0m\u001b[0;34m(\u001b[0m\u001b[0mretval_\u001b[0m\u001b[0;34m,\u001b[0m \u001b[0mdo_return\u001b[0m\u001b[0;34m)\u001b[0m\u001b[0;34m\u001b[0m\u001b[0;34m\u001b[0m\u001b[0m\n\u001b[1;32m     77\u001b[0m         \u001b[0;32mreturn\u001b[0m \u001b[0mtf__call\u001b[0m\u001b[0;34m\u001b[0m\u001b[0;34m\u001b[0m\u001b[0m\n",
            "\u001b[0;32m/usr/local/lib/python3.7/dist-packages/tensorflow_decision_forests/keras/core.py\u001b[0m in \u001b[0;36melse_body_2\u001b[0;34m()\u001b[0m\n\u001b[1;32m     32\u001b[0m                     \u001b[0;32mnonlocal\u001b[0m \u001b[0mdo_return\u001b[0m\u001b[0;34m,\u001b[0m \u001b[0mretval_\u001b[0m\u001b[0;34m\u001b[0m\u001b[0;34m\u001b[0m\u001b[0m\n\u001b[1;32m     33\u001b[0m                     \u001b[0mnormalized_inputs\u001b[0m \u001b[0;34m=\u001b[0m \u001b[0mag__\u001b[0m\u001b[0;34m.\u001b[0m\u001b[0mconverted_call\u001b[0m\u001b[0;34m(\u001b[0m\u001b[0mag__\u001b[0m\u001b[0;34m.\u001b[0m\u001b[0mld\u001b[0m\u001b[0;34m(\u001b[0m\u001b[0mself\u001b[0m\u001b[0;34m)\u001b[0m\u001b[0;34m.\u001b[0m\u001b[0m_build_normalized_inputs\u001b[0m\u001b[0;34m,\u001b[0m \u001b[0;34m(\u001b[0m\u001b[0mag__\u001b[0m\u001b[0;34m.\u001b[0m\u001b[0mld\u001b[0m\u001b[0;34m(\u001b[0m\u001b[0minputs\u001b[0m\u001b[0;34m)\u001b[0m\u001b[0;34m,\u001b[0m\u001b[0;34m)\u001b[0m\u001b[0;34m,\u001b[0m \u001b[0;32mNone\u001b[0m\u001b[0;34m,\u001b[0m \u001b[0mfscope\u001b[0m\u001b[0;34m)\u001b[0m\u001b[0;34m\u001b[0m\u001b[0;34m\u001b[0m\u001b[0m\n\u001b[0;32m---> 34\u001b[0;31m                     \u001b[0mpredictions\u001b[0m \u001b[0;34m=\u001b[0m \u001b[0mag__\u001b[0m\u001b[0;34m.\u001b[0m\u001b[0mconverted_call\u001b[0m\u001b[0;34m(\u001b[0m\u001b[0mag__\u001b[0m\u001b[0;34m.\u001b[0m\u001b[0mld\u001b[0m\u001b[0;34m(\u001b[0m\u001b[0mself\u001b[0m\u001b[0;34m)\u001b[0m\u001b[0;34m.\u001b[0m\u001b[0m_model\u001b[0m\u001b[0;34m.\u001b[0m\u001b[0mapply\u001b[0m\u001b[0;34m,\u001b[0m \u001b[0;34m(\u001b[0m\u001b[0mag__\u001b[0m\u001b[0;34m.\u001b[0m\u001b[0mld\u001b[0m\u001b[0;34m(\u001b[0m\u001b[0mnormalized_inputs\u001b[0m\u001b[0;34m)\u001b[0m\u001b[0;34m,\u001b[0m\u001b[0;34m)\u001b[0m\u001b[0;34m,\u001b[0m \u001b[0;32mNone\u001b[0m\u001b[0;34m,\u001b[0m \u001b[0mfscope\u001b[0m\u001b[0;34m)\u001b[0m\u001b[0;34m\u001b[0m\u001b[0;34m\u001b[0m\u001b[0m\n\u001b[0m\u001b[1;32m     35\u001b[0m \u001b[0;34m\u001b[0m\u001b[0m\n\u001b[1;32m     36\u001b[0m                     \u001b[0;32mdef\u001b[0m \u001b[0mget_state\u001b[0m\u001b[0;34m(\u001b[0m\u001b[0;34m)\u001b[0m\u001b[0;34m:\u001b[0m\u001b[0;34m\u001b[0m\u001b[0;34m\u001b[0m\u001b[0m\n",
            "\u001b[0;32m/usr/local/lib/python3.7/dist-packages/tensorflow_decision_forests/tensorflow/ops/inference/api.py\u001b[0m in \u001b[0;36mtf__apply\u001b[0;34m(self, features)\u001b[0m\n\u001b[1;32m      9\u001b[0m                 \u001b[0mdo_return\u001b[0m \u001b[0;34m=\u001b[0m \u001b[0;32mFalse\u001b[0m\u001b[0;34m\u001b[0m\u001b[0;34m\u001b[0m\u001b[0m\n\u001b[1;32m     10\u001b[0m                 \u001b[0mretval_\u001b[0m \u001b[0;34m=\u001b[0m \u001b[0mag__\u001b[0m\u001b[0;34m.\u001b[0m\u001b[0mUndefinedReturnValue\u001b[0m\u001b[0;34m(\u001b[0m\u001b[0;34m)\u001b[0m\u001b[0;34m\u001b[0m\u001b[0;34m\u001b[0m\u001b[0m\n\u001b[0;32m---> 11\u001b[0;31m                 \u001b[0minference_args\u001b[0m \u001b[0;34m=\u001b[0m \u001b[0mag__\u001b[0m\u001b[0;34m.\u001b[0m\u001b[0mconverted_call\u001b[0m\u001b[0;34m(\u001b[0m\u001b[0mag__\u001b[0m\u001b[0;34m.\u001b[0m\u001b[0mld\u001b[0m\u001b[0;34m(\u001b[0m\u001b[0mself\u001b[0m\u001b[0;34m)\u001b[0m\u001b[0;34m.\u001b[0m\u001b[0m_input_builder\u001b[0m\u001b[0;34m.\u001b[0m\u001b[0mbuild_inference_op_args\u001b[0m\u001b[0;34m,\u001b[0m \u001b[0;34m(\u001b[0m\u001b[0mag__\u001b[0m\u001b[0;34m.\u001b[0m\u001b[0mld\u001b[0m\u001b[0;34m(\u001b[0m\u001b[0mfeatures\u001b[0m\u001b[0;34m)\u001b[0m\u001b[0;34m,\u001b[0m\u001b[0;34m)\u001b[0m\u001b[0;34m,\u001b[0m \u001b[0;32mNone\u001b[0m\u001b[0;34m,\u001b[0m \u001b[0mfscope\u001b[0m\u001b[0;34m)\u001b[0m\u001b[0;34m\u001b[0m\u001b[0;34m\u001b[0m\u001b[0m\n\u001b[0m\u001b[1;32m     12\u001b[0m                 \u001b[0;34m(\u001b[0m\u001b[0mdense_predictions\u001b[0m\u001b[0;34m,\u001b[0m \u001b[0mdense_col_representation\u001b[0m\u001b[0;34m)\u001b[0m \u001b[0;34m=\u001b[0m \u001b[0mag__\u001b[0m\u001b[0;34m.\u001b[0m\u001b[0mconverted_call\u001b[0m\u001b[0;34m(\u001b[0m\u001b[0mag__\u001b[0m\u001b[0;34m.\u001b[0m\u001b[0mld\u001b[0m\u001b[0;34m(\u001b[0m\u001b[0mop\u001b[0m\u001b[0;34m)\u001b[0m\u001b[0;34m.\u001b[0m\u001b[0mSimpleMLInferenceOpWithHandle\u001b[0m\u001b[0;34m,\u001b[0m \u001b[0;34m(\u001b[0m\u001b[0;34m)\u001b[0m\u001b[0;34m,\u001b[0m \u001b[0mdict\u001b[0m\u001b[0;34m(\u001b[0m\u001b[0mmodel_handle\u001b[0m\u001b[0;34m=\u001b[0m\u001b[0mag__\u001b[0m\u001b[0;34m.\u001b[0m\u001b[0mld\u001b[0m\u001b[0;34m(\u001b[0m\u001b[0mself\u001b[0m\u001b[0;34m)\u001b[0m\u001b[0;34m.\u001b[0m\u001b[0m_compiled_model\u001b[0m\u001b[0;34m.\u001b[0m\u001b[0mresource_handle\u001b[0m\u001b[0;34m,\u001b[0m \u001b[0mname\u001b[0m\u001b[0;34m=\u001b[0m\u001b[0;34m'inference_op'\u001b[0m\u001b[0;34m,\u001b[0m \u001b[0;34m**\u001b[0m\u001b[0mag__\u001b[0m\u001b[0;34m.\u001b[0m\u001b[0mld\u001b[0m\u001b[0;34m(\u001b[0m\u001b[0minference_args\u001b[0m\u001b[0;34m)\u001b[0m\u001b[0;34m)\u001b[0m\u001b[0;34m,\u001b[0m \u001b[0mfscope\u001b[0m\u001b[0;34m)\u001b[0m\u001b[0;34m\u001b[0m\u001b[0;34m\u001b[0m\u001b[0m\n\u001b[1;32m     13\u001b[0m                 \u001b[0;32mtry\u001b[0m\u001b[0;34m:\u001b[0m\u001b[0;34m\u001b[0m\u001b[0;34m\u001b[0m\u001b[0m\n",
            "\u001b[0;32m/usr/local/lib/python3.7/dist-packages/tensorflow_decision_forests/tensorflow/ops/inference/api.py\u001b[0m in \u001b[0;36mtf__build_inference_op_args\u001b[0;34m(self, features, output_leaves)\u001b[0m\n\u001b[1;32m     36\u001b[0m                 \u001b[0mfeature_tensor\u001b[0m \u001b[0;34m=\u001b[0m \u001b[0mag__\u001b[0m\u001b[0;34m.\u001b[0m\u001b[0mUndefined\u001b[0m\u001b[0;34m(\u001b[0m\u001b[0;34m'feature_tensor'\u001b[0m\u001b[0;34m)\u001b[0m\u001b[0;34m\u001b[0m\u001b[0;34m\u001b[0m\u001b[0m\n\u001b[1;32m     37\u001b[0m                 \u001b[0mag__\u001b[0m\u001b[0;34m.\u001b[0m\u001b[0mfor_stmt\u001b[0m\u001b[0;34m(\u001b[0m\u001b[0mag__\u001b[0m\u001b[0;34m.\u001b[0m\u001b[0mconverted_call\u001b[0m\u001b[0;34m(\u001b[0m\u001b[0mag__\u001b[0m\u001b[0;34m.\u001b[0m\u001b[0mld\u001b[0m\u001b[0;34m(\u001b[0m\u001b[0mfeatures\u001b[0m\u001b[0;34m)\u001b[0m\u001b[0;34m.\u001b[0m\u001b[0mitems\u001b[0m\u001b[0;34m,\u001b[0m \u001b[0;34m(\u001b[0m\u001b[0;34m)\u001b[0m\u001b[0;34m,\u001b[0m \u001b[0;32mNone\u001b[0m\u001b[0;34m,\u001b[0m \u001b[0mfscope\u001b[0m\u001b[0;34m)\u001b[0m\u001b[0;34m,\u001b[0m \u001b[0;32mNone\u001b[0m\u001b[0;34m,\u001b[0m \u001b[0mloop_body\u001b[0m\u001b[0;34m,\u001b[0m \u001b[0mget_state_1\u001b[0m\u001b[0;34m,\u001b[0m \u001b[0mset_state_1\u001b[0m\u001b[0;34m,\u001b[0m \u001b[0;34m(\u001b[0m\u001b[0;34m)\u001b[0m\u001b[0;34m,\u001b[0m \u001b[0;34m{\u001b[0m\u001b[0;34m'iterate_names'\u001b[0m\u001b[0;34m:\u001b[0m \u001b[0;34m'(feature_name, feature_tensor)'\u001b[0m\u001b[0;34m}\u001b[0m\u001b[0;34m)\u001b[0m\u001b[0;34m\u001b[0m\u001b[0;34m\u001b[0m\u001b[0m\n\u001b[0;32m---> 38\u001b[0;31m                 \u001b[0mag__\u001b[0m\u001b[0;34m.\u001b[0m\u001b[0mconverted_call\u001b[0m\u001b[0;34m(\u001b[0m\u001b[0mag__\u001b[0m\u001b[0;34m.\u001b[0m\u001b[0mld\u001b[0m\u001b[0;34m(\u001b[0m\u001b[0mself\u001b[0m\u001b[0;34m)\u001b[0m\u001b[0;34m.\u001b[0m\u001b[0m_check_all_input_features_are_provided\u001b[0m\u001b[0;34m,\u001b[0m \u001b[0;34m(\u001b[0m\u001b[0mag__\u001b[0m\u001b[0;34m.\u001b[0m\u001b[0mld\u001b[0m\u001b[0;34m(\u001b[0m\u001b[0mfeature_maps\u001b[0m\u001b[0;34m)\u001b[0m\u001b[0;34m,\u001b[0m\u001b[0;34m)\u001b[0m\u001b[0;34m,\u001b[0m \u001b[0;32mNone\u001b[0m\u001b[0;34m,\u001b[0m \u001b[0mfscope\u001b[0m\u001b[0;34m)\u001b[0m\u001b[0;34m\u001b[0m\u001b[0;34m\u001b[0m\u001b[0m\n\u001b[0m\u001b[1;32m     39\u001b[0m \u001b[0;34m\u001b[0m\u001b[0m\n\u001b[1;32m     40\u001b[0m                 \u001b[0;32mdef\u001b[0m \u001b[0mget_state_2\u001b[0m\u001b[0;34m(\u001b[0m\u001b[0;34m)\u001b[0m\u001b[0;34m:\u001b[0m\u001b[0;34m\u001b[0m\u001b[0;34m\u001b[0m\u001b[0m\n",
            "\u001b[0;32m/usr/local/lib/python3.7/dist-packages/tensorflow_decision_forests/tensorflow/ops/inference/api.py\u001b[0m in \u001b[0;36mtf___check_all_input_features_are_provided\u001b[0;34m(self, feature_maps)\u001b[0m\n\u001b[1;32m     20\u001b[0m                 \u001b[0;32mdef\u001b[0m \u001b[0melse_body\u001b[0m\u001b[0;34m(\u001b[0m\u001b[0;34m)\u001b[0m\u001b[0;34m:\u001b[0m\u001b[0;34m\u001b[0m\u001b[0;34m\u001b[0m\u001b[0m\n\u001b[1;32m     21\u001b[0m                     \u001b[0;32mpass\u001b[0m\u001b[0;34m\u001b[0m\u001b[0;34m\u001b[0m\u001b[0m\n\u001b[0;32m---> 22\u001b[0;31m                 \u001b[0mag__\u001b[0m\u001b[0;34m.\u001b[0m\u001b[0mif_stmt\u001b[0m\u001b[0;34m(\u001b[0m\u001b[0mag__\u001b[0m\u001b[0;34m.\u001b[0m\u001b[0mld\u001b[0m\u001b[0;34m(\u001b[0m\u001b[0mmissing_features\u001b[0m\u001b[0;34m)\u001b[0m\u001b[0;34m,\u001b[0m \u001b[0mif_body\u001b[0m\u001b[0;34m,\u001b[0m \u001b[0melse_body\u001b[0m\u001b[0;34m,\u001b[0m \u001b[0mget_state\u001b[0m\u001b[0;34m,\u001b[0m \u001b[0mset_state\u001b[0m\u001b[0;34m,\u001b[0m \u001b[0;34m(\u001b[0m\u001b[0;34m)\u001b[0m\u001b[0;34m,\u001b[0m \u001b[0;36m0\u001b[0m\u001b[0;34m)\u001b[0m\u001b[0;34m\u001b[0m\u001b[0;34m\u001b[0m\u001b[0m\n\u001b[0m\u001b[1;32m     23\u001b[0m         \u001b[0;32mreturn\u001b[0m \u001b[0mtf___check_all_input_features_are_provided\u001b[0m\u001b[0;34m\u001b[0m\u001b[0;34m\u001b[0m\u001b[0m\n\u001b[1;32m     24\u001b[0m     \u001b[0;32mreturn\u001b[0m \u001b[0minner_factory\u001b[0m\u001b[0;34m\u001b[0m\u001b[0;34m\u001b[0m\u001b[0m\n",
            "\u001b[0;32m/usr/local/lib/python3.7/dist-packages/tensorflow_decision_forests/tensorflow/ops/inference/api.py\u001b[0m in \u001b[0;36mif_body\u001b[0;34m()\u001b[0m\n\u001b[1;32m     16\u001b[0m \u001b[0;34m\u001b[0m\u001b[0m\n\u001b[1;32m     17\u001b[0m                 \u001b[0;32mdef\u001b[0m \u001b[0mif_body\u001b[0m\u001b[0;34m(\u001b[0m\u001b[0;34m)\u001b[0m\u001b[0;34m:\u001b[0m\u001b[0;34m\u001b[0m\u001b[0;34m\u001b[0m\u001b[0m\n\u001b[0;32m---> 18\u001b[0;31m                     \u001b[0;32mraise\u001b[0m \u001b[0mag__\u001b[0m\u001b[0;34m.\u001b[0m\u001b[0mconverted_call\u001b[0m\u001b[0;34m(\u001b[0m\u001b[0mag__\u001b[0m\u001b[0;34m.\u001b[0m\u001b[0mld\u001b[0m\u001b[0;34m(\u001b[0m\u001b[0mException\u001b[0m\u001b[0;34m)\u001b[0m\u001b[0;34m,\u001b[0m \u001b[0;34m(\u001b[0m\u001b[0mag__\u001b[0m\u001b[0;34m.\u001b[0m\u001b[0mconverted_call\u001b[0m\u001b[0;34m(\u001b[0m\u001b[0;34m'No all input features have been registered. Non registered required input features: {}'\u001b[0m\u001b[0;34m.\u001b[0m\u001b[0mformat\u001b[0m\u001b[0;34m,\u001b[0m \u001b[0;34m(\u001b[0m\u001b[0;34m[\u001b[0m\u001b[0mag__\u001b[0m\u001b[0;34m.\u001b[0m\u001b[0mld\u001b[0m\u001b[0;34m(\u001b[0m\u001b[0mself\u001b[0m\u001b[0;34m)\u001b[0m\u001b[0;34m.\u001b[0m\u001b[0m_data_spec\u001b[0m\u001b[0;34m.\u001b[0m\u001b[0mcolumns\u001b[0m\u001b[0;34m[\u001b[0m\u001b[0mag__\u001b[0m\u001b[0;34m.\u001b[0m\u001b[0mld\u001b[0m\u001b[0;34m(\u001b[0m\u001b[0mfeature_idx\u001b[0m\u001b[0;34m)\u001b[0m\u001b[0;34m]\u001b[0m\u001b[0;34m.\u001b[0m\u001b[0mname\u001b[0m \u001b[0;32mfor\u001b[0m \u001b[0mfeature_idx\u001b[0m \u001b[0;32min\u001b[0m \u001b[0mag__\u001b[0m\u001b[0;34m.\u001b[0m\u001b[0mld\u001b[0m\u001b[0;34m(\u001b[0m\u001b[0mmissing_features\u001b[0m\u001b[0;34m)\u001b[0m\u001b[0;34m]\u001b[0m\u001b[0;34m,\u001b[0m\u001b[0;34m)\u001b[0m\u001b[0;34m,\u001b[0m \u001b[0;32mNone\u001b[0m\u001b[0;34m,\u001b[0m \u001b[0mfscope\u001b[0m\u001b[0;34m)\u001b[0m\u001b[0;34m,\u001b[0m\u001b[0;34m)\u001b[0m\u001b[0;34m,\u001b[0m \u001b[0;32mNone\u001b[0m\u001b[0;34m,\u001b[0m \u001b[0mfscope\u001b[0m\u001b[0;34m)\u001b[0m\u001b[0;34m\u001b[0m\u001b[0;34m\u001b[0m\u001b[0m\n\u001b[0m\u001b[1;32m     19\u001b[0m \u001b[0;34m\u001b[0m\u001b[0m\n\u001b[1;32m     20\u001b[0m                 \u001b[0;32mdef\u001b[0m \u001b[0melse_body\u001b[0m\u001b[0;34m(\u001b[0m\u001b[0;34m)\u001b[0m\u001b[0;34m:\u001b[0m\u001b[0;34m\u001b[0m\u001b[0;34m\u001b[0m\u001b[0m\n",
            "\u001b[0;31mException\u001b[0m: in user code:\n\n    File \"/usr/local/lib/python3.7/dist-packages/keras/engine/training.py\", line 1557, in test_function  *\n        return step_function(self, iterator)\n    File \"/usr/local/lib/python3.7/dist-packages/keras/engine/training.py\", line 1546, in step_function  **\n        outputs = model.distribute_strategy.run(run_step, args=(data,))\n    File \"/usr/local/lib/python3.7/dist-packages/keras/engine/training.py\", line 1535, in run_step  **\n        outputs = model.test_step(data)\n    File \"/usr/local/lib/python3.7/dist-packages/keras/engine/training.py\", line 1499, in test_step\n        y_pred = self(x, training=False)\n    File \"/usr/local/lib/python3.7/dist-packages/keras/utils/traceback_utils.py\", line 67, in error_handler\n        raise e.with_traceback(filtered_tb) from None\n    File \"/tmp/__autograph_generated_filewwim1hyw.py\", line 75, in tf__call\n        ag__.if_stmt((ag__.ld(self)._semantics is None), if_body_2, else_body_2, get_state_2, set_state_2, ('do_return', 'retval_'), 2)\n    File \"/tmp/__autograph_generated_filewwim1hyw.py\", line 34, in else_body_2\n        predictions = ag__.converted_call(ag__.ld(self)._model.apply, (ag__.ld(normalized_inputs),), None, fscope)\n    File \"/tmp/__autograph_generated_filermt_srg1.py\", line 11, in tf__apply\n        inference_args = ag__.converted_call(ag__.ld(self)._input_builder.build_inference_op_args, (ag__.ld(features),), None, fscope)\n    File \"/tmp/__autograph_generated_filed9rvuc1c.py\", line 38, in tf__build_inference_op_args\n        ag__.converted_call(ag__.ld(self)._check_all_input_features_are_provided, (ag__.ld(feature_maps),), None, fscope)\n    File \"/tmp/__autograph_generated_file9f0bz8ae.py\", line 22, in tf___check_all_input_features_are_provided\n        ag__.if_stmt(ag__.ld(missing_features), if_body, else_body, get_state, set_state, (), 0)\n    File \"/tmp/__autograph_generated_file9f0bz8ae.py\", line 18, in if_body\n        raise ag__.converted_call(ag__.ld(Exception), (ag__.converted_call('No all input features have been registered. Non registered required input features: {}'.format, ([ag__.ld(self)._data_spec.columns[ag__.ld(feature_idx)].name for feature_idx in ag__.ld(missing_features)],), None, fscope),), None, fscope)\n\n    Exception: Exception encountered when calling layer \"random_forest_model\" (type RandomForestModel).\n    \n    in user code:\n    \n        File \"/usr/local/lib/python3.7/dist-packages/tensorflow_decision_forests/keras/core.py\", line 900, in call  *\n            predictions = self._model.apply(normalized_inputs)\n        File \"/usr/local/lib/python3.7/dist-packages/tensorflow_decision_forests/tensorflow/ops/inference/api.py\", line 362, in apply  *\n            inference_args = self._input_builder.build_inference_op_args(features)\n        File \"/usr/local/lib/python3.7/dist-packages/tensorflow_decision_forests/tensorflow/ops/inference/api.py\", line 484, in build_inference_op_args  *\n            self._check_all_input_features_are_provided(feature_maps)\n        File \"/usr/local/lib/python3.7/dist-packages/tensorflow_decision_forests/tensorflow/ops/inference/api.py\", line 664, in _check_all_input_features_are_provided  *\n            raise Exception(\n    \n        Exception: No all input features have been registered. Non registered required input features: ['data:0.0', 'data:0.1', 'data:0.10', 'data:0.11', 'data:0.2', 'data:0.3', 'data:0.4', 'data:0.5', 'data:0.6', 'data:0.7', 'data:0.8', 'data:0.9']\n    \n    \n    Call arguments received by layer \"random_forest_model\" (type RandomForestModel):\n      • inputs=tf.Tensor(shape=(None, 10), dtype=float32)\n      • training=False\n"
          ]
        }
      ]
    },
    {
      "cell_type": "code",
      "source": [
        "mean_df_only = tf.reduce_mean(tf.stack([m3_pred, m4_pred], axis=0), axis=0)\n",
        "# mean_nn_and_df = tf.reduce_mean(\n",
        "#    tf.stack([m1_pred, m2_pred, m3_pred, m4_pred], axis=0), axis=0)\n",
        "\n",
        "# Keras Models\n",
        "# ============\n",
        "\n",
        "ensemble_df_only = tf.keras.models.Model(raw_features, mean_nn_only)\n",
        "#ensemble_nn_and_df = tf.keras.models.Model(raw_features, mean_nn_and_df)"
      ],
      "metadata": {
        "id": "vXJevXvyFfIo"
      },
      "execution_count": 28,
      "outputs": []
    },
    {
      "cell_type": "code",
      "source": [
        "%%time\n",
        "ensemble_df_only.compile(\n",
        "        optimizer=tf.keras.optimizers.Adam(),\n",
        "        loss=tf.keras.losses.BinaryCrossentropy(),\n",
        "        metrics=[\"accuracy\"])\n"
      ],
      "metadata": {
        "colab": {
          "base_uri": "https://localhost:8080/"
        },
        "id": "C1EK3yxjTdaK",
        "outputId": "c0a8fa8a-984e-4015-f394-376864f8d3bd"
      },
      "execution_count": 30,
      "outputs": [
        {
          "output_type": "stream",
          "name": "stdout",
          "text": [
            "CPU times: user 8.38 ms, sys: 1.03 ms, total: 9.41 ms\n",
            "Wall time: 11.7 ms\n"
          ]
        }
      ]
    },
    {
      "cell_type": "code",
      "source": [
        "ensemble_df_only.fit(\n",
        "    X_train,\n",
        "    y_train,\n",
        "    batch_size=64,\n",
        "    epochs=100,\n",
        "    # We pass some validation for\n",
        "    # monitoring validation loss and metrics\n",
        "    # at the end of each epoch\n",
        "    validation_data=(X_test, y_test),\n",
        ")"
      ],
      "metadata": {
        "colab": {
          "base_uri": "https://localhost:8080/"
        },
        "id": "vcRUd2Z1VJix",
        "outputId": "842b0e6c-2710-45c7-bb40-c363b03d4f6c"
      },
      "execution_count": 32,
      "outputs": [
        {
          "output_type": "stream",
          "name": "stdout",
          "text": [
            "Epoch 1/100\n",
            "345/345 [==============================] - 3s 7ms/step - loss: 0.2464 - accuracy: 0.9056 - val_loss: 0.2536 - val_accuracy: 0.9039\n",
            "Epoch 2/100\n",
            "345/345 [==============================] - 3s 9ms/step - loss: 0.2475 - accuracy: 0.9048 - val_loss: 0.2543 - val_accuracy: 0.9012\n",
            "Epoch 3/100\n",
            "345/345 [==============================] - 2s 6ms/step - loss: 0.2477 - accuracy: 0.9041 - val_loss: 0.2628 - val_accuracy: 0.8961\n",
            "Epoch 4/100\n",
            "345/345 [==============================] - 2s 6ms/step - loss: 0.2484 - accuracy: 0.9036 - val_loss: 0.2504 - val_accuracy: 0.9012\n",
            "Epoch 5/100\n",
            "345/345 [==============================] - 2s 6ms/step - loss: 0.2462 - accuracy: 0.9050 - val_loss: 0.2508 - val_accuracy: 0.9019\n",
            "Epoch 6/100\n",
            "345/345 [==============================] - 2s 6ms/step - loss: 0.2461 - accuracy: 0.9051 - val_loss: 0.2472 - val_accuracy: 0.9050\n",
            "Epoch 7/100\n",
            "345/345 [==============================] - 2s 6ms/step - loss: 0.2483 - accuracy: 0.9049 - val_loss: 0.2479 - val_accuracy: 0.9050\n",
            "Epoch 8/100\n",
            "345/345 [==============================] - 2s 6ms/step - loss: 0.2470 - accuracy: 0.9053 - val_loss: 0.2472 - val_accuracy: 0.9043\n",
            "Epoch 9/100\n",
            "345/345 [==============================] - 2s 6ms/step - loss: 0.2456 - accuracy: 0.9050 - val_loss: 0.2460 - val_accuracy: 0.9041\n",
            "Epoch 10/100\n",
            "345/345 [==============================] - 1s 4ms/step - loss: 0.2477 - accuracy: 0.9045 - val_loss: 0.2525 - val_accuracy: 0.9019\n",
            "Epoch 11/100\n",
            "345/345 [==============================] - 2s 5ms/step - loss: 0.2458 - accuracy: 0.9045 - val_loss: 0.2471 - val_accuracy: 0.9035\n",
            "Epoch 12/100\n",
            "345/345 [==============================] - 1s 4ms/step - loss: 0.2454 - accuracy: 0.9066 - val_loss: 0.2476 - val_accuracy: 0.9055\n",
            "Epoch 13/100\n",
            "345/345 [==============================] - 2s 4ms/step - loss: 0.2477 - accuracy: 0.9041 - val_loss: 0.2507 - val_accuracy: 0.9026\n",
            "Epoch 14/100\n",
            "345/345 [==============================] - 1s 4ms/step - loss: 0.2485 - accuracy: 0.9047 - val_loss: 0.2650 - val_accuracy: 0.8947\n",
            "Epoch 15/100\n",
            "345/345 [==============================] - 2s 6ms/step - loss: 0.2464 - accuracy: 0.9050 - val_loss: 0.2486 - val_accuracy: 0.9052\n",
            "Epoch 16/100\n",
            "345/345 [==============================] - 2s 6ms/step - loss: 0.2458 - accuracy: 0.9047 - val_loss: 0.2476 - val_accuracy: 0.9041\n",
            "Epoch 17/100\n",
            "345/345 [==============================] - 2s 6ms/step - loss: 0.2463 - accuracy: 0.9047 - val_loss: 0.2596 - val_accuracy: 0.8977\n",
            "Epoch 18/100\n",
            "345/345 [==============================] - 2s 6ms/step - loss: 0.2442 - accuracy: 0.9064 - val_loss: 0.2475 - val_accuracy: 0.9041\n",
            "Epoch 19/100\n",
            "345/345 [==============================] - 2s 6ms/step - loss: 0.2459 - accuracy: 0.9045 - val_loss: 0.2471 - val_accuracy: 0.9068\n",
            "Epoch 20/100\n",
            "345/345 [==============================] - 1s 4ms/step - loss: 0.2452 - accuracy: 0.9052 - val_loss: 0.2665 - val_accuracy: 0.8939\n",
            "Epoch 21/100\n",
            "345/345 [==============================] - 3s 10ms/step - loss: 0.2470 - accuracy: 0.9050 - val_loss: 0.2467 - val_accuracy: 0.9046\n",
            "Epoch 22/100\n",
            "345/345 [==============================] - 1s 4ms/step - loss: 0.2446 - accuracy: 0.9047 - val_loss: 0.2495 - val_accuracy: 0.9035\n",
            "Epoch 23/100\n",
            "345/345 [==============================] - 1s 4ms/step - loss: 0.2463 - accuracy: 0.9037 - val_loss: 0.2511 - val_accuracy: 0.9021\n",
            "Epoch 24/100\n",
            "345/345 [==============================] - 1s 4ms/step - loss: 0.2460 - accuracy: 0.9056 - val_loss: 0.2487 - val_accuracy: 0.9024\n",
            "Epoch 25/100\n",
            "345/345 [==============================] - 1s 4ms/step - loss: 0.2453 - accuracy: 0.9053 - val_loss: 0.2478 - val_accuracy: 0.9041\n",
            "Epoch 26/100\n",
            "345/345 [==============================] - 2s 4ms/step - loss: 0.2456 - accuracy: 0.9047 - val_loss: 0.2479 - val_accuracy: 0.9052\n",
            "Epoch 27/100\n",
            "345/345 [==============================] - 2s 4ms/step - loss: 0.2453 - accuracy: 0.9044 - val_loss: 0.2618 - val_accuracy: 0.8941\n",
            "Epoch 28/100\n",
            "345/345 [==============================] - 2s 6ms/step - loss: 0.2444 - accuracy: 0.9054 - val_loss: 0.2624 - val_accuracy: 0.8959\n",
            "Epoch 29/100\n",
            "345/345 [==============================] - 2s 6ms/step - loss: 0.2468 - accuracy: 0.9060 - val_loss: 0.2481 - val_accuracy: 0.9048\n",
            "Epoch 30/100\n",
            "345/345 [==============================] - 2s 6ms/step - loss: 0.2466 - accuracy: 0.9047 - val_loss: 0.2470 - val_accuracy: 0.9061\n",
            "Epoch 31/100\n",
            "345/345 [==============================] - 2s 6ms/step - loss: 0.2441 - accuracy: 0.9060 - val_loss: 0.2492 - val_accuracy: 0.9046\n",
            "Epoch 32/100\n",
            "345/345 [==============================] - 2s 6ms/step - loss: 0.2449 - accuracy: 0.9061 - val_loss: 0.2458 - val_accuracy: 0.9043\n",
            "Epoch 33/100\n",
            "345/345 [==============================] - 2s 6ms/step - loss: 0.2445 - accuracy: 0.9061 - val_loss: 0.2458 - val_accuracy: 0.9050\n",
            "Epoch 34/100\n",
            "345/345 [==============================] - 2s 4ms/step - loss: 0.2444 - accuracy: 0.9057 - val_loss: 0.2486 - val_accuracy: 0.9052\n",
            "Epoch 35/100\n",
            "345/345 [==============================] - 1s 4ms/step - loss: 0.2437 - accuracy: 0.9056 - val_loss: 0.2461 - val_accuracy: 0.9057\n",
            "Epoch 36/100\n",
            "345/345 [==============================] - 2s 6ms/step - loss: 0.2451 - accuracy: 0.9051 - val_loss: 0.2448 - val_accuracy: 0.9053\n",
            "Epoch 37/100\n",
            "345/345 [==============================] - 2s 6ms/step - loss: 0.2442 - accuracy: 0.9053 - val_loss: 0.2447 - val_accuracy: 0.9052\n",
            "Epoch 38/100\n",
            "345/345 [==============================] - 2s 6ms/step - loss: 0.2447 - accuracy: 0.9064 - val_loss: 0.2454 - val_accuracy: 0.9055\n",
            "Epoch 39/100\n",
            "345/345 [==============================] - 2s 4ms/step - loss: 0.2437 - accuracy: 0.9061 - val_loss: 0.2439 - val_accuracy: 0.9055\n",
            "Epoch 40/100\n",
            "345/345 [==============================] - 1s 4ms/step - loss: 0.2465 - accuracy: 0.9044 - val_loss: 0.2448 - val_accuracy: 0.9063\n",
            "Epoch 41/100\n",
            "345/345 [==============================] - 2s 6ms/step - loss: 0.2447 - accuracy: 0.9063 - val_loss: 0.2446 - val_accuracy: 0.9063\n",
            "Epoch 42/100\n",
            "345/345 [==============================] - 2s 6ms/step - loss: 0.2426 - accuracy: 0.9064 - val_loss: 0.2439 - val_accuracy: 0.9059\n",
            "Epoch 43/100\n",
            "345/345 [==============================] - 1s 4ms/step - loss: 0.2435 - accuracy: 0.9065 - val_loss: 0.2501 - val_accuracy: 0.9043\n",
            "Epoch 44/100\n",
            "345/345 [==============================] - 1s 4ms/step - loss: 0.2452 - accuracy: 0.9052 - val_loss: 0.2539 - val_accuracy: 0.9015\n",
            "Epoch 45/100\n",
            "345/345 [==============================] - 1s 4ms/step - loss: 0.2425 - accuracy: 0.9066 - val_loss: 0.2680 - val_accuracy: 0.8916\n",
            "Epoch 46/100\n",
            "345/345 [==============================] - 1s 4ms/step - loss: 0.2446 - accuracy: 0.9048 - val_loss: 0.2451 - val_accuracy: 0.9057\n",
            "Epoch 47/100\n",
            "345/345 [==============================] - 2s 6ms/step - loss: 0.2430 - accuracy: 0.9068 - val_loss: 0.2468 - val_accuracy: 0.9073\n",
            "Epoch 48/100\n",
            "345/345 [==============================] - 2s 6ms/step - loss: 0.2430 - accuracy: 0.9067 - val_loss: 0.2460 - val_accuracy: 0.9072\n",
            "Epoch 49/100\n",
            "345/345 [==============================] - 1s 4ms/step - loss: 0.2430 - accuracy: 0.9066 - val_loss: 0.2449 - val_accuracy: 0.9061\n",
            "Epoch 50/100\n",
            "345/345 [==============================] - 2s 7ms/step - loss: 0.2452 - accuracy: 0.9065 - val_loss: 0.2485 - val_accuracy: 0.9050\n",
            "Epoch 51/100\n",
            "345/345 [==============================] - 2s 6ms/step - loss: 0.2436 - accuracy: 0.9068 - val_loss: 0.2449 - val_accuracy: 0.9068\n",
            "Epoch 52/100\n",
            "345/345 [==============================] - 2s 6ms/step - loss: 0.2440 - accuracy: 0.9049 - val_loss: 0.2450 - val_accuracy: 0.9073\n",
            "Epoch 53/100\n",
            "345/345 [==============================] - 1s 4ms/step - loss: 0.2436 - accuracy: 0.9059 - val_loss: 0.2464 - val_accuracy: 0.9039\n",
            "Epoch 54/100\n",
            "345/345 [==============================] - 1s 4ms/step - loss: 0.2435 - accuracy: 0.9059 - val_loss: 0.2471 - val_accuracy: 0.9044\n",
            "Epoch 55/100\n",
            "345/345 [==============================] - 2s 4ms/step - loss: 0.2434 - accuracy: 0.9062 - val_loss: 0.2444 - val_accuracy: 0.9073\n",
            "Epoch 56/100\n",
            "345/345 [==============================] - 1s 4ms/step - loss: 0.2446 - accuracy: 0.9058 - val_loss: 0.2453 - val_accuracy: 0.9057\n",
            "Epoch 57/100\n",
            "345/345 [==============================] - 2s 4ms/step - loss: 0.2434 - accuracy: 0.9068 - val_loss: 0.2546 - val_accuracy: 0.9012\n",
            "Epoch 58/100\n",
            "345/345 [==============================] - 1s 4ms/step - loss: 0.2423 - accuracy: 0.9060 - val_loss: 0.2494 - val_accuracy: 0.9041\n",
            "Epoch 59/100\n",
            "345/345 [==============================] - 1s 4ms/step - loss: 0.2434 - accuracy: 0.9065 - val_loss: 0.2483 - val_accuracy: 0.9043\n",
            "Epoch 60/100\n",
            "345/345 [==============================] - 2s 6ms/step - loss: 0.2426 - accuracy: 0.9071 - val_loss: 0.2476 - val_accuracy: 0.9037\n",
            "Epoch 61/100\n",
            "345/345 [==============================] - 2s 6ms/step - loss: 0.2427 - accuracy: 0.9076 - val_loss: 0.2436 - val_accuracy: 0.9057\n",
            "Epoch 62/100\n",
            "345/345 [==============================] - 2s 6ms/step - loss: 0.2434 - accuracy: 0.9063 - val_loss: 0.2542 - val_accuracy: 0.8972\n",
            "Epoch 63/100\n",
            "345/345 [==============================] - 2s 6ms/step - loss: 0.2430 - accuracy: 0.9064 - val_loss: 0.2443 - val_accuracy: 0.9066\n",
            "Epoch 64/100\n",
            "345/345 [==============================] - 2s 6ms/step - loss: 0.2427 - accuracy: 0.9072 - val_loss: 0.2571 - val_accuracy: 0.8974\n",
            "Epoch 65/100\n",
            "345/345 [==============================] - 2s 6ms/step - loss: 0.2423 - accuracy: 0.9072 - val_loss: 0.2465 - val_accuracy: 0.9043\n",
            "Epoch 66/100\n",
            "345/345 [==============================] - 2s 6ms/step - loss: 0.2414 - accuracy: 0.9072 - val_loss: 0.2486 - val_accuracy: 0.9044\n",
            "Epoch 67/100\n",
            "345/345 [==============================] - 1s 4ms/step - loss: 0.2409 - accuracy: 0.9071 - val_loss: 0.2455 - val_accuracy: 0.9052\n",
            "Epoch 68/100\n",
            "345/345 [==============================] - 1s 4ms/step - loss: 0.2420 - accuracy: 0.9062 - val_loss: 0.2521 - val_accuracy: 0.9028\n",
            "Epoch 69/100\n",
            "345/345 [==============================] - 2s 6ms/step - loss: 0.2420 - accuracy: 0.9068 - val_loss: 0.2428 - val_accuracy: 0.9073\n",
            "Epoch 70/100\n",
            "345/345 [==============================] - 1s 4ms/step - loss: 0.2429 - accuracy: 0.9060 - val_loss: 0.2489 - val_accuracy: 0.9030\n",
            "Epoch 71/100\n",
            "345/345 [==============================] - 2s 6ms/step - loss: 0.2402 - accuracy: 0.9082 - val_loss: 0.2416 - val_accuracy: 0.9064\n",
            "Epoch 72/100\n",
            "345/345 [==============================] - 2s 7ms/step - loss: 0.2428 - accuracy: 0.9065 - val_loss: 0.2688 - val_accuracy: 0.8925\n",
            "Epoch 73/100\n",
            "345/345 [==============================] - 2s 6ms/step - loss: 0.2435 - accuracy: 0.9061 - val_loss: 0.2451 - val_accuracy: 0.9048\n",
            "Epoch 74/100\n",
            "345/345 [==============================] - 1s 4ms/step - loss: 0.2413 - accuracy: 0.9067 - val_loss: 0.2548 - val_accuracy: 0.9003\n",
            "Epoch 75/100\n",
            "345/345 [==============================] - 1s 4ms/step - loss: 0.2431 - accuracy: 0.9066 - val_loss: 0.2445 - val_accuracy: 0.9052\n",
            "Epoch 76/100\n",
            "345/345 [==============================] - 1s 4ms/step - loss: 0.2402 - accuracy: 0.9076 - val_loss: 0.2520 - val_accuracy: 0.9023\n",
            "Epoch 77/100\n",
            "345/345 [==============================] - 2s 6ms/step - loss: 0.2421 - accuracy: 0.9073 - val_loss: 0.2452 - val_accuracy: 0.9048\n",
            "Epoch 78/100\n",
            "345/345 [==============================] - 2s 6ms/step - loss: 0.2412 - accuracy: 0.9074 - val_loss: 0.2421 - val_accuracy: 0.9063\n",
            "Epoch 79/100\n",
            "345/345 [==============================] - 1s 4ms/step - loss: 0.2401 - accuracy: 0.9071 - val_loss: 0.2445 - val_accuracy: 0.9075\n",
            "Epoch 80/100\n",
            "345/345 [==============================] - 2s 6ms/step - loss: 0.2417 - accuracy: 0.9078 - val_loss: 0.2455 - val_accuracy: 0.9095\n",
            "Epoch 81/100\n",
            "345/345 [==============================] - 2s 6ms/step - loss: 0.2411 - accuracy: 0.9073 - val_loss: 0.2512 - val_accuracy: 0.9014\n",
            "Epoch 82/100\n",
            "345/345 [==============================] - 1s 4ms/step - loss: 0.2424 - accuracy: 0.9061 - val_loss: 0.2427 - val_accuracy: 0.9068\n",
            "Epoch 83/100\n",
            "345/345 [==============================] - 2s 6ms/step - loss: 0.2397 - accuracy: 0.9080 - val_loss: 0.2428 - val_accuracy: 0.9083\n",
            "Epoch 84/100\n",
            "345/345 [==============================] - 1s 4ms/step - loss: 0.2395 - accuracy: 0.9061 - val_loss: 0.2429 - val_accuracy: 0.9066\n",
            "Epoch 85/100\n",
            "345/345 [==============================] - 1s 4ms/step - loss: 0.2398 - accuracy: 0.9082 - val_loss: 0.2428 - val_accuracy: 0.9088\n",
            "Epoch 86/100\n",
            "345/345 [==============================] - 2s 4ms/step - loss: 0.2399 - accuracy: 0.9081 - val_loss: 0.2420 - val_accuracy: 0.9064\n",
            "Epoch 87/100\n",
            "345/345 [==============================] - 2s 4ms/step - loss: 0.2402 - accuracy: 0.9068 - val_loss: 0.2424 - val_accuracy: 0.9079\n",
            "Epoch 88/100\n",
            "345/345 [==============================] - 1s 4ms/step - loss: 0.2416 - accuracy: 0.9074 - val_loss: 0.2517 - val_accuracy: 0.9001\n",
            "Epoch 89/100\n",
            "345/345 [==============================] - 1s 4ms/step - loss: 0.2405 - accuracy: 0.9075 - val_loss: 0.2700 - val_accuracy: 0.8894\n",
            "Epoch 90/100\n",
            "345/345 [==============================] - 2s 4ms/step - loss: 0.2410 - accuracy: 0.9055 - val_loss: 0.2413 - val_accuracy: 0.9090\n",
            "Epoch 91/100\n",
            "345/345 [==============================] - 1s 4ms/step - loss: 0.2391 - accuracy: 0.9077 - val_loss: 0.2420 - val_accuracy: 0.9093\n",
            "Epoch 92/100\n",
            "345/345 [==============================] - 2s 4ms/step - loss: 0.2410 - accuracy: 0.9064 - val_loss: 0.2411 - val_accuracy: 0.9075\n",
            "Epoch 93/100\n",
            "345/345 [==============================] - 2s 4ms/step - loss: 0.2394 - accuracy: 0.9098 - val_loss: 0.2402 - val_accuracy: 0.9057\n",
            "Epoch 94/100\n",
            "345/345 [==============================] - 1s 4ms/step - loss: 0.2405 - accuracy: 0.9068 - val_loss: 0.2456 - val_accuracy: 0.9037\n",
            "Epoch 95/100\n",
            "345/345 [==============================] - 1s 4ms/step - loss: 0.2397 - accuracy: 0.9060 - val_loss: 0.2422 - val_accuracy: 0.9064\n",
            "Epoch 96/100\n",
            "345/345 [==============================] - 1s 4ms/step - loss: 0.2395 - accuracy: 0.9076 - val_loss: 0.2407 - val_accuracy: 0.9073\n",
            "Epoch 97/100\n",
            "345/345 [==============================] - 1s 4ms/step - loss: 0.2397 - accuracy: 0.9079 - val_loss: 0.2434 - val_accuracy: 0.9075\n",
            "Epoch 98/100\n",
            "345/345 [==============================] - 1s 4ms/step - loss: 0.2410 - accuracy: 0.9066 - val_loss: 0.2409 - val_accuracy: 0.9086\n",
            "Epoch 99/100\n",
            "345/345 [==============================] - 2s 4ms/step - loss: 0.2406 - accuracy: 0.9082 - val_loss: 0.2457 - val_accuracy: 0.9032\n",
            "Epoch 100/100\n",
            "345/345 [==============================] - 1s 4ms/step - loss: 0.2396 - accuracy: 0.9081 - val_loss: 0.2413 - val_accuracy: 0.9081\n"
          ]
        },
        {
          "output_type": "execute_result",
          "data": {
            "text/plain": [
              "<keras.callbacks.History at 0x7f9f2aa82390>"
            ]
          },
          "metadata": {},
          "execution_count": 32
        }
      ]
    },
    {
      "cell_type": "code",
      "source": [
        "#ensemble_nn_and_df.compile(\n",
        "#    loss=tf.keras.losses.BinaryCrossentropy(), metrics=[\"accuracy\"])\n",
        "\n",
        "\n",
        "evaluation_df_only = ensemble_df_only.evaluate(X_test)\n",
        "\n",
        "#print(\"Accuracy (2xNN and 2xDF): \", evaluation_df_only[\"accuracy\"])\n",
        "#print(\"Loss (2xNN and 2xDF): \", evaluation_df_only[\"loss\"])"
      ],
      "metadata": {
        "colab": {
          "base_uri": "https://localhost:8080/"
        },
        "id": "iWtKlwImVX4u",
        "outputId": "b4fb2b0f-9d2e-4031-ba6e-92b00819e0bb"
      },
      "execution_count": 37,
      "outputs": [
        {
          "output_type": "stream",
          "name": "stdout",
          "text": [
            "173/173 [==============================] - 1s 3ms/step - loss: 0.0000e+00 - accuracy: 0.0000e+00\n"
          ]
        }
      ]
    },
    {
      "cell_type": "code",
      "source": [],
      "metadata": {
        "id": "QI2NJC6jXITh"
      },
      "execution_count": null,
      "outputs": []
    }
  ]
}