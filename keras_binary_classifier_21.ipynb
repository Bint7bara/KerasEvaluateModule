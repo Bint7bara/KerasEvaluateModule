{
  "cells": [
    {
      "cell_type": "markdown",
      "metadata": {
        "id": "view-in-github",
        "colab_type": "text"
      },
      "source": [
        "<a href=\"https://colab.research.google.com/github/Bint7bara/KerasEvaluateModule/blob/master/keras_binary_classifier_21.ipynb\" target=\"_parent\"><img src=\"https://colab.research.google.com/assets/colab-badge.svg\" alt=\"Open In Colab\"/></a>"
      ]
    },
    {
      "cell_type": "code",
      "execution_count": null,
      "metadata": {
        "id": "xmgJcdXRUHi6"
      },
      "outputs": [],
      "source": [
        "import numpy as np\n",
        "import seaborn as sns\n",
        "import matplotlib.pyplot as plt\n",
        "from tensorflow.keras.models import Sequential\n",
        "from tensorflow.keras.layers import Dense\n",
        "import matplotlib.pyplot as plt\n",
        "import numpy as np"
      ]
    },
    {
      "cell_type": "code",
      "execution_count": null,
      "metadata": {
        "id": "QgfBKL6jVvH5"
      },
      "outputs": [],
      "source": [
        "nf = 21\n",
        "seed = 7\n",
        "# load pima indians dataset\n",
        "# dataset = np.loadtxt(\"NewGencode4DLTraining2.csv\", delimiter=\",\")\n",
        "#dataset = np.loadtxt(\"12Featuresplus_LncAdeepScores.csv\", delimiter=\",\")\n",
        "dataset = np.loadtxt(\"20LncAdeepScores.csv\", delimiter=\",\")\n",
        "\n",
        "# split into input (X) and output (Y) variables\n",
        "X = dataset[:,0:nf] #12]\n",
        "Y = dataset[:,nf] #12]"
      ]
    },
    {
      "cell_type": "code",
      "execution_count": null,
      "metadata": {
        "colab": {
          "base_uri": "https://localhost:8080/"
        },
        "id": "WLAwjdg5WK3k",
        "outputId": "3a9717a0-c193-421c-c4a6-cd50266ab9fa"
      },
      "outputs": [
        {
          "name": "stdout",
          "output_type": "stream",
          "text": [
            "Unique values of the target variable [0. 1.]\n",
            "Counts of the target variable : [10079 14275]\n"
          ]
        }
      ],
      "source": [
        "(unique, counts) = np.unique(Y, return_counts=True)\n",
        "print('Unique values of the target variable', unique)\n",
        "print('Counts of the target variable :', counts)"
      ]
    },
    {
      "cell_type": "code",
      "execution_count": null,
      "metadata": {
        "colab": {
          "base_uri": "https://localhost:8080/",
          "height": 281
        },
        "id": "Mi541mrKWgS_",
        "outputId": "7421f0b0-dab2-4d9b-e5b2-5743af7f92ed"
      },
      "outputs": [
        {
          "data": {
            "image/png": "[encoded data removed]",
            "text/plain": [
              "<Figure size 432x288 with 1 Axes>"
            ]
          },
          "metadata": {},
          "output_type": "display_data"
        }
      ],
      "source": [
        "sns.barplot(x=[0,1],y=[10010, 17561])\n",
        "plt.title('Target variable counts in dataset')\n",
        "plt.show()"
      ]
    },
    {
      "cell_type": "code",
      "execution_count": null,
      "metadata": {
        "id": "oofisksMbeGu"
      },
      "outputs": [],
      "source": [
        "from sklearn.preprocessing import StandardScaler\n",
        "standardizer = StandardScaler()\n",
        "X = standardizer.fit_transform(X)"
      ]
    },
    {
      "cell_type": "code",
      "execution_count": null,
      "metadata": {
        "id": "ahDN3KbnbnQ-"
      },
      "outputs": [],
      "source": [
        "from sklearn.model_selection import train_test_split\n",
        "\n",
        "X_train, X_test, y_train, y_test = train_test_split(X, Y , test_size=0.25, random_state=0)"
      ]
    },
    {
      "cell_type": "code",
      "execution_count": null,
      "metadata": {
        "colab": {
          "base_uri": "https://localhost:8080/"
        },
        "id": "xA7RaL4Ybxc6",
        "outputId": "492b8f93-4ed1-4cae-bcde-90ac7808c1bb"
      },
      "outputs": [
        {
          "data": {
            "text/plain": [
              "LogisticRegression()"
            ]
          },
          "execution_count": 27,
          "metadata": {},
          "output_type": "execute_result"
        }
      ],
      "source": [
        "from sklearn.linear_model import LogisticRegression\n",
        "model = LogisticRegression()\n",
        "model.fit(X_train, y_train)"
      ]
    },
    {
      "cell_type": "code",
      "execution_count": null,
      "metadata": {
        "id": "YDqLvKcebxWN"
      },
      "outputs": [],
      "source": [
        "predictions = model.predict(X_test)"
      ]
    },
    {
      "cell_type": "code",
      "execution_count": null,
      "metadata": {
        "colab": {
          "base_uri": "https://localhost:8080/"
        },
        "id": "Q6fpRBB-cEaf",
        "outputId": "54c02505-5170-4281-e03b-cdb4a5eacfba"
      },
      "outputs": [
        {
          "name": "stdout",
          "output_type": "stream",
          "text": [
            "True Positive(TP)  =  3410\n",
            "False Positive(FP) =  78\n",
            "True Negative(TN)  =  2482\n",
            "False Negative(FN) =  119\n",
            "Accuracy of the binary classification = 0.968\n"
          ]
        }
      ],
      "source": [
        "from sklearn.metrics import confusion_matrix\n",
        "\n",
        "cm = confusion_matrix(y_test, predictions)\n",
        "\n",
        "TN, FP, FN, TP = confusion_matrix(y_test, predictions).ravel()\n",
        "\n",
        "print('True Positive(TP)  = ', TP)\n",
        "print('False Positive(FP) = ', FP)\n",
        "print('True Negative(TN)  = ', TN)\n",
        "print('False Negative(FN) = ', FN)\n",
        "\n",
        "accuracy =  (TP+TN) /(TP+FP+TN+FN)\n",
        "\n",
        "print('Accuracy of the binary classification = {:0.3f}'.format(accuracy))"
      ]
    },
    {
      "cell_type": "code",
      "execution_count": null,
      "metadata": {
        "colab": {
          "base_uri": "https://localhost:8080/"
        },
        "id": "0JY07F9pcTm1",
        "outputId": "f39226f4-7769-4071-f065-dea017e5cb09"
      },
      "outputs": [
        {
          "name": "stderr",
          "output_type": "stream",
          "text": [
            "/usr/local/lib/python3.7/dist-packages/sklearn/svm/_base.py:1208: ConvergenceWarning: Liblinear failed to converge, increase the number of iterations.\n",
            "  ConvergenceWarning,\n"
          ]
        }
      ],
      "source": [
        "models = {}\n",
        "\n",
        "# Logistic Regression\n",
        "from sklearn.linear_model import LogisticRegression\n",
        "models['Logistic Regression'] = LogisticRegression()\n",
        "\n",
        "# Support Vector Machines\n",
        "from sklearn.svm import LinearSVC\n",
        "models['Support Vector Machines'] = LinearSVC()\n",
        "\n",
        "# Decision Trees\n",
        "from sklearn.tree import DecisionTreeClassifier\n",
        "models['Decision Trees'] = DecisionTreeClassifier()\n",
        "\n",
        "# Random Forest\n",
        "from sklearn.ensemble import RandomForestClassifier\n",
        "models['Random Forest'] = RandomForestClassifier(\n",
        "    n_estimators = 300,\n",
        "    max_depth = 16,\n",
        "    criterion = \"entropy\",\n",
        "    min_samples_split = 5,\n",
        "    max_features = 1./3\n",
        "\n",
        ")\n",
        "\n",
        "# Naive Bayes\n",
        "from sklearn.naive_bayes import GaussianNB\n",
        "models['Naive Bayes'] = GaussianNB()\n",
        "\n",
        "# K-Nearest Neighbors\n",
        "from sklearn.neighbors import KNeighborsClassifier\n",
        "models['K-Nearest Neighbor'] = KNeighborsClassifier()\n",
        "from sklearn.metrics import accuracy_score, precision_score, recall_score\n",
        "\n",
        "accuracy, precision, recall = {}, {}, {}\n",
        "\n",
        "for key in models.keys():\n",
        "    \n",
        "    # Fit the classifier model\n",
        "    models[key].fit(X_train, y_train)\n",
        "    \n",
        "    # Prediction \n",
        "    predictions = models[key].predict(X_test)\n",
        "    \n",
        "    # Calculate Accuracy, Precision and Recall Metrics\n",
        "    accuracy[key] = accuracy_score(predictions, y_test)\n",
        "    precision[key] = precision_score(predictions, y_test)\n",
        "    recall[key] = recall_score(predictions, y_test)"
      ]
    },
    {
      "cell_type": "code",
      "execution_count": null,
      "metadata": {
        "colab": {
          "base_uri": "https://localhost:8080/"
        },
        "id": "61BYVYg4cgeI",
        "outputId": "fd6ff50c-64c9-4145-9084-65c90e23cca9"
      },
      "outputs": [
        {
          "name": "stdout",
          "output_type": "stream",
          "text": [
            "Model: \"sequential_1\"\n",
            "_________________________________________________________________\n",
            " Layer (type)                Output Shape              Param #   \n",
            "=================================================================\n",
            " dense_2 (Dense)             (None, 128)               2816      \n",
            "                                                                 \n",
            " dense_3 (Dense)             (None, 1)                 129       \n",
            "                                                                 \n",
            "=================================================================\n",
            "Total params: 2,945\n",
            "Trainable params: 2,945\n",
            "Non-trainable params: 0\n",
            "_________________________________________________________________\n",
            "Epoch 1/100\n",
            "183/183 [==============================] - 1s 2ms/step - loss: 0.1617 - accuracy: 0.9418 - val_loss: 0.1150 - val_accuracy: 0.9673\n",
            "Epoch 2/100\n",
            "183/183 [==============================] - 0s 2ms/step - loss: 0.1127 - accuracy: 0.9667 - val_loss: 0.1168 - val_accuracy: 0.9683\n",
            "Epoch 3/100\n",
            "183/183 [==============================] - 0s 2ms/step - loss: 0.1120 - accuracy: 0.9672 - val_loss: 0.1136 - val_accuracy: 0.9681\n",
            "Epoch 4/100\n",
            "183/183 [==============================] - 0s 2ms/step - loss: 0.1112 - accuracy: 0.9678 - val_loss: 0.1133 - val_accuracy: 0.9685\n",
            "Epoch 5/100\n",
            "183/183 [==============================] - 0s 2ms/step - loss: 0.1105 - accuracy: 0.9680 - val_loss: 0.1126 - val_accuracy: 0.9681\n",
            "Epoch 6/100\n",
            "183/183 [==============================] - 0s 2ms/step - loss: 0.1108 - accuracy: 0.9681 - val_loss: 0.1126 - val_accuracy: 0.9681\n",
            "Epoch 7/100\n",
            "183/183 [==============================] - 0s 2ms/step - loss: 0.1096 - accuracy: 0.9685 - val_loss: 0.1123 - val_accuracy: 0.9681\n",
            "Epoch 8/100\n",
            "183/183 [==============================] - 0s 2ms/step - loss: 0.1096 - accuracy: 0.9686 - val_loss: 0.1122 - val_accuracy: 0.9680\n",
            "Epoch 9/100\n",
            "183/183 [==============================] - 0s 2ms/step - loss: 0.1095 - accuracy: 0.9683 - val_loss: 0.1127 - val_accuracy: 0.9678\n",
            "Epoch 10/100\n",
            "183/183 [==============================] - 0s 2ms/step - loss: 0.1094 - accuracy: 0.9684 - val_loss: 0.1119 - val_accuracy: 0.9681\n",
            "Epoch 11/100\n",
            "183/183 [==============================] - 0s 2ms/step - loss: 0.1088 - accuracy: 0.9685 - val_loss: 0.1117 - val_accuracy: 0.9680\n",
            "Epoch 12/100\n",
            "183/183 [==============================] - 0s 2ms/step - loss: 0.1086 - accuracy: 0.9687 - val_loss: 0.1124 - val_accuracy: 0.9676\n",
            "Epoch 13/100\n",
            "183/183 [==============================] - 0s 2ms/step - loss: 0.1085 - accuracy: 0.9687 - val_loss: 0.1116 - val_accuracy: 0.9676\n",
            "Epoch 14/100\n",
            "183/183 [==============================] - 0s 2ms/step - loss: 0.1083 - accuracy: 0.9689 - val_loss: 0.1114 - val_accuracy: 0.9676\n",
            "Epoch 15/100\n",
            "183/183 [==============================] - 0s 2ms/step - loss: 0.1079 - accuracy: 0.9689 - val_loss: 0.1117 - val_accuracy: 0.9681\n",
            "Epoch 16/100\n",
            "183/183 [==============================] - 0s 2ms/step - loss: 0.1079 - accuracy: 0.9692 - val_loss: 0.1112 - val_accuracy: 0.9681\n",
            "Epoch 17/100\n",
            "183/183 [==============================] - 0s 2ms/step - loss: 0.1081 - accuracy: 0.9689 - val_loss: 0.1116 - val_accuracy: 0.9676\n",
            "Epoch 18/100\n",
            "183/183 [==============================] - 0s 2ms/step - loss: 0.1076 - accuracy: 0.9691 - val_loss: 0.1115 - val_accuracy: 0.9683\n",
            "Epoch 19/100\n",
            "183/183 [==============================] - 0s 2ms/step - loss: 0.1074 - accuracy: 0.9693 - val_loss: 0.1118 - val_accuracy: 0.9680\n",
            "Epoch 20/100\n",
            "183/183 [==============================] - 0s 2ms/step - loss: 0.1073 - accuracy: 0.9691 - val_loss: 0.1119 - val_accuracy: 0.9680\n",
            "Epoch 21/100\n",
            "183/183 [==============================] - 0s 2ms/step - loss: 0.1069 - accuracy: 0.9691 - val_loss: 0.1111 - val_accuracy: 0.9680\n",
            "Epoch 22/100\n",
            "183/183 [==============================] - 0s 2ms/step - loss: 0.1068 - accuracy: 0.9691 - val_loss: 0.1115 - val_accuracy: 0.9680\n",
            "Epoch 23/100\n",
            "183/183 [==============================] - 0s 2ms/step - loss: 0.1071 - accuracy: 0.9692 - val_loss: 0.1107 - val_accuracy: 0.9680\n",
            "Epoch 24/100\n",
            "183/183 [==============================] - 0s 2ms/step - loss: 0.1069 - accuracy: 0.9692 - val_loss: 0.1115 - val_accuracy: 0.9681\n",
            "Epoch 25/100\n",
            "183/183 [==============================] - 0s 2ms/step - loss: 0.1070 - accuracy: 0.9692 - val_loss: 0.1136 - val_accuracy: 0.9683\n",
            "Epoch 26/100\n",
            "183/183 [==============================] - 0s 2ms/step - loss: 0.1072 - accuracy: 0.9694 - val_loss: 0.1106 - val_accuracy: 0.9680\n",
            "Epoch 27/100\n",
            "183/183 [==============================] - 0s 2ms/step - loss: 0.1063 - accuracy: 0.9697 - val_loss: 0.1116 - val_accuracy: 0.9681\n",
            "Epoch 28/100\n",
            "183/183 [==============================] - 0s 2ms/step - loss: 0.1062 - accuracy: 0.9692 - val_loss: 0.1108 - val_accuracy: 0.9678\n",
            "Epoch 29/100\n",
            "183/183 [==============================] - 0s 2ms/step - loss: 0.1064 - accuracy: 0.9695 - val_loss: 0.1110 - val_accuracy: 0.9681\n",
            "Epoch 30/100\n",
            "183/183 [==============================] - 0s 2ms/step - loss: 0.1054 - accuracy: 0.9696 - val_loss: 0.1112 - val_accuracy: 0.9678\n",
            "Epoch 31/100\n",
            "183/183 [==============================] - 0s 2ms/step - loss: 0.1060 - accuracy: 0.9697 - val_loss: 0.1106 - val_accuracy: 0.9678\n",
            "Epoch 32/100\n",
            "183/183 [==============================] - 0s 2ms/step - loss: 0.1054 - accuracy: 0.9695 - val_loss: 0.1112 - val_accuracy: 0.9681\n",
            "Epoch 33/100\n",
            "183/183 [==============================] - 0s 2ms/step - loss: 0.1059 - accuracy: 0.9700 - val_loss: 0.1123 - val_accuracy: 0.9680\n",
            "Epoch 34/100\n",
            "183/183 [==============================] - 0s 2ms/step - loss: 0.1055 - accuracy: 0.9701 - val_loss: 0.1113 - val_accuracy: 0.9680\n",
            "Epoch 35/100\n",
            "183/183 [==============================] - 0s 2ms/step - loss: 0.1049 - accuracy: 0.9701 - val_loss: 0.1164 - val_accuracy: 0.9676\n",
            "Epoch 36/100\n",
            "183/183 [==============================] - 0s 2ms/step - loss: 0.1050 - accuracy: 0.9704 - val_loss: 0.1112 - val_accuracy: 0.9680\n",
            "Epoch 37/100\n",
            "183/183 [==============================] - 0s 2ms/step - loss: 0.1053 - accuracy: 0.9703 - val_loss: 0.1110 - val_accuracy: 0.9681\n",
            "Epoch 38/100\n",
            "183/183 [==============================] - 0s 2ms/step - loss: 0.1057 - accuracy: 0.9707 - val_loss: 0.1107 - val_accuracy: 0.9680\n",
            "Epoch 39/100\n",
            "183/183 [==============================] - 0s 2ms/step - loss: 0.1050 - accuracy: 0.9707 - val_loss: 0.1118 - val_accuracy: 0.9683\n",
            "Epoch 40/100\n",
            "183/183 [==============================] - 0s 2ms/step - loss: 0.1051 - accuracy: 0.9708 - val_loss: 0.1142 - val_accuracy: 0.9672\n",
            "Epoch 41/100\n",
            "183/183 [==============================] - 0s 2ms/step - loss: 0.1048 - accuracy: 0.9708 - val_loss: 0.1108 - val_accuracy: 0.9680\n",
            "Epoch 42/100\n",
            "183/183 [==============================] - 0s 2ms/step - loss: 0.1045 - accuracy: 0.9705 - val_loss: 0.1118 - val_accuracy: 0.9681\n",
            "Epoch 43/100\n",
            "183/183 [==============================] - 0s 2ms/step - loss: 0.1043 - accuracy: 0.9709 - val_loss: 0.1136 - val_accuracy: 0.9675\n",
            "Epoch 44/100\n",
            "183/183 [==============================] - 0s 2ms/step - loss: 0.1045 - accuracy: 0.9705 - val_loss: 0.1117 - val_accuracy: 0.9680\n",
            "Epoch 45/100\n",
            "183/183 [==============================] - 0s 2ms/step - loss: 0.1042 - accuracy: 0.9704 - val_loss: 0.1137 - val_accuracy: 0.9670\n",
            "Epoch 46/100\n",
            "183/183 [==============================] - 0s 2ms/step - loss: 0.1043 - accuracy: 0.9708 - val_loss: 0.1116 - val_accuracy: 0.9670\n",
            "Epoch 47/100\n",
            "183/183 [==============================] - 0s 2ms/step - loss: 0.1038 - accuracy: 0.9708 - val_loss: 0.1113 - val_accuracy: 0.9673\n",
            "Epoch 48/100\n",
            "183/183 [==============================] - 0s 2ms/step - loss: 0.1039 - accuracy: 0.9707 - val_loss: 0.1119 - val_accuracy: 0.9673\n",
            "Epoch 49/100\n",
            "183/183 [==============================] - 0s 2ms/step - loss: 0.1033 - accuracy: 0.9710 - val_loss: 0.1115 - val_accuracy: 0.9678\n",
            "Epoch 50/100\n",
            "183/183 [==============================] - 0s 2ms/step - loss: 0.1038 - accuracy: 0.9709 - val_loss: 0.1109 - val_accuracy: 0.9675\n",
            "Epoch 51/100\n",
            "183/183 [==============================] - 0s 2ms/step - loss: 0.1034 - accuracy: 0.9710 - val_loss: 0.1128 - val_accuracy: 0.9672\n",
            "Epoch 52/100\n",
            "183/183 [==============================] - 0s 2ms/step - loss: 0.1038 - accuracy: 0.9710 - val_loss: 0.1133 - val_accuracy: 0.9675\n",
            "Epoch 53/100\n",
            "183/183 [==============================] - 0s 2ms/step - loss: 0.1029 - accuracy: 0.9714 - val_loss: 0.1120 - val_accuracy: 0.9675\n",
            "Epoch 54/100\n",
            "183/183 [==============================] - 0s 2ms/step - loss: 0.1034 - accuracy: 0.9713 - val_loss: 0.1113 - val_accuracy: 0.9673\n",
            "Epoch 55/100\n",
            "183/183 [==============================] - 0s 2ms/step - loss: 0.1030 - accuracy: 0.9712 - val_loss: 0.1125 - val_accuracy: 0.9672\n",
            "Epoch 56/100\n",
            "183/183 [==============================] - 0s 2ms/step - loss: 0.1030 - accuracy: 0.9710 - val_loss: 0.1116 - val_accuracy: 0.9670\n",
            "Epoch 57/100\n",
            "183/183 [==============================] - 0s 2ms/step - loss: 0.1029 - accuracy: 0.9716 - val_loss: 0.1111 - val_accuracy: 0.9672\n",
            "Epoch 58/100\n",
            "183/183 [==============================] - 0s 2ms/step - loss: 0.1030 - accuracy: 0.9717 - val_loss: 0.1125 - val_accuracy: 0.9670\n",
            "Epoch 59/100\n",
            "183/183 [==============================] - 0s 2ms/step - loss: 0.1034 - accuracy: 0.9713 - val_loss: 0.1125 - val_accuracy: 0.9668\n",
            "Epoch 60/100\n",
            "183/183 [==============================] - 0s 2ms/step - loss: 0.1020 - accuracy: 0.9716 - val_loss: 0.1120 - val_accuracy: 0.9658\n",
            "Epoch 61/100\n",
            "183/183 [==============================] - 0s 2ms/step - loss: 0.1029 - accuracy: 0.9715 - val_loss: 0.1119 - val_accuracy: 0.9665\n",
            "Epoch 62/100\n",
            "183/183 [==============================] - 0s 2ms/step - loss: 0.1023 - accuracy: 0.9719 - val_loss: 0.1113 - val_accuracy: 0.9665\n",
            "Epoch 63/100\n",
            "183/183 [==============================] - 0s 2ms/step - loss: 0.1024 - accuracy: 0.9717 - val_loss: 0.1125 - val_accuracy: 0.9667\n",
            "Epoch 64/100\n",
            "183/183 [==============================] - 0s 2ms/step - loss: 0.1022 - accuracy: 0.9715 - val_loss: 0.1134 - val_accuracy: 0.9657\n",
            "Epoch 65/100\n",
            "183/183 [==============================] - 0s 2ms/step - loss: 0.1023 - accuracy: 0.9721 - val_loss: 0.1120 - val_accuracy: 0.9655\n",
            "Epoch 66/100\n",
            "183/183 [==============================] - 0s 2ms/step - loss: 0.1022 - accuracy: 0.9720 - val_loss: 0.1121 - val_accuracy: 0.9662\n",
            "Epoch 67/100\n",
            "183/183 [==============================] - 0s 2ms/step - loss: 0.1018 - accuracy: 0.9721 - val_loss: 0.1142 - val_accuracy: 0.9650\n",
            "Epoch 68/100\n",
            "183/183 [==============================] - 0s 2ms/step - loss: 0.1025 - accuracy: 0.9719 - val_loss: 0.1117 - val_accuracy: 0.9657\n",
            "Epoch 69/100\n",
            "183/183 [==============================] - 0s 2ms/step - loss: 0.1018 - accuracy: 0.9722 - val_loss: 0.1117 - val_accuracy: 0.9662\n",
            "Epoch 70/100\n",
            "183/183 [==============================] - 0s 2ms/step - loss: 0.1014 - accuracy: 0.9720 - val_loss: 0.1117 - val_accuracy: 0.9657\n",
            "Epoch 71/100\n",
            "183/183 [==============================] - 0s 2ms/step - loss: 0.1017 - accuracy: 0.9722 - val_loss: 0.1122 - val_accuracy: 0.9662\n",
            "Epoch 72/100\n",
            "183/183 [==============================] - 0s 2ms/step - loss: 0.1016 - accuracy: 0.9720 - val_loss: 0.1146 - val_accuracy: 0.9657\n",
            "Epoch 73/100\n",
            "183/183 [==============================] - 0s 2ms/step - loss: 0.1017 - accuracy: 0.9724 - val_loss: 0.1120 - val_accuracy: 0.9649\n",
            "Epoch 74/100\n",
            "183/183 [==============================] - 0s 2ms/step - loss: 0.1015 - accuracy: 0.9721 - val_loss: 0.1129 - val_accuracy: 0.9660\n",
            "Epoch 75/100\n",
            "183/183 [==============================] - 0s 2ms/step - loss: 0.1014 - accuracy: 0.9722 - val_loss: 0.1122 - val_accuracy: 0.9658\n",
            "Epoch 76/100\n",
            "183/183 [==============================] - 0s 2ms/step - loss: 0.1021 - accuracy: 0.9722 - val_loss: 0.1123 - val_accuracy: 0.9655\n",
            "Epoch 77/100\n",
            "183/183 [==============================] - 0s 2ms/step - loss: 0.1011 - accuracy: 0.9724 - val_loss: 0.1123 - val_accuracy: 0.9653\n",
            "Epoch 78/100\n",
            "183/183 [==============================] - 0s 2ms/step - loss: 0.1019 - accuracy: 0.9722 - val_loss: 0.1128 - val_accuracy: 0.9653\n",
            "Epoch 79/100\n",
            "183/183 [==============================] - 0s 2ms/step - loss: 0.1011 - accuracy: 0.9724 - val_loss: 0.1137 - val_accuracy: 0.9653\n",
            "Epoch 80/100\n",
            "183/183 [==============================] - 0s 2ms/step - loss: 0.1006 - accuracy: 0.9726 - val_loss: 0.1122 - val_accuracy: 0.9653\n",
            "Epoch 81/100\n",
            "183/183 [==============================] - 0s 2ms/step - loss: 0.1003 - accuracy: 0.9725 - val_loss: 0.1125 - val_accuracy: 0.9657\n",
            "Epoch 82/100\n",
            "183/183 [==============================] - 0s 2ms/step - loss: 0.1004 - accuracy: 0.9726 - val_loss: 0.1140 - val_accuracy: 0.9647\n",
            "Epoch 83/100\n",
            "183/183 [==============================] - 0s 2ms/step - loss: 0.1007 - accuracy: 0.9726 - val_loss: 0.1122 - val_accuracy: 0.9653\n",
            "Epoch 84/100\n",
            "183/183 [==============================] - 0s 2ms/step - loss: 0.1001 - accuracy: 0.9727 - val_loss: 0.1129 - val_accuracy: 0.9655\n",
            "Epoch 85/100\n",
            "183/183 [==============================] - 0s 2ms/step - loss: 0.1006 - accuracy: 0.9726 - val_loss: 0.1126 - val_accuracy: 0.9657\n",
            "Epoch 86/100\n",
            "183/183 [==============================] - 0s 2ms/step - loss: 0.1006 - accuracy: 0.9724 - val_loss: 0.1136 - val_accuracy: 0.9657\n",
            "Epoch 87/100\n",
            "183/183 [==============================] - 0s 2ms/step - loss: 0.0997 - accuracy: 0.9726 - val_loss: 0.1129 - val_accuracy: 0.9652\n",
            "Epoch 88/100\n",
            "183/183 [==============================] - 0s 2ms/step - loss: 0.0997 - accuracy: 0.9724 - val_loss: 0.1144 - val_accuracy: 0.9658\n",
            "Epoch 89/100\n",
            "183/183 [==============================] - 0s 2ms/step - loss: 0.0998 - accuracy: 0.9731 - val_loss: 0.1132 - val_accuracy: 0.9652\n",
            "Epoch 90/100\n",
            "183/183 [==============================] - 0s 2ms/step - loss: 0.0996 - accuracy: 0.9727 - val_loss: 0.1130 - val_accuracy: 0.9652\n",
            "Epoch 91/100\n",
            "183/183 [==============================] - 0s 2ms/step - loss: 0.0995 - accuracy: 0.9730 - val_loss: 0.1141 - val_accuracy: 0.9642\n",
            "Epoch 92/100\n",
            "183/183 [==============================] - 0s 2ms/step - loss: 0.0993 - accuracy: 0.9728 - val_loss: 0.1172 - val_accuracy: 0.9640\n",
            "Epoch 93/100\n",
            "183/183 [==============================] - 0s 2ms/step - loss: 0.0994 - accuracy: 0.9726 - val_loss: 0.1133 - val_accuracy: 0.9647\n",
            "Epoch 94/100\n",
            "183/183 [==============================] - 0s 2ms/step - loss: 0.0992 - accuracy: 0.9727 - val_loss: 0.1137 - val_accuracy: 0.9653\n",
            "Epoch 95/100\n",
            "183/183 [==============================] - 0s 2ms/step - loss: 0.0996 - accuracy: 0.9726 - val_loss: 0.1130 - val_accuracy: 0.9650\n",
            "Epoch 96/100\n",
            "183/183 [==============================] - 0s 2ms/step - loss: 0.0989 - accuracy: 0.9731 - val_loss: 0.1151 - val_accuracy: 0.9653\n",
            "Epoch 97/100\n",
            "183/183 [==============================] - 0s 2ms/step - loss: 0.0990 - accuracy: 0.9730 - val_loss: 0.1159 - val_accuracy: 0.9650\n",
            "Epoch 98/100\n",
            "183/183 [==============================] - 0s 2ms/step - loss: 0.0990 - accuracy: 0.9732 - val_loss: 0.1138 - val_accuracy: 0.9647\n",
            "Epoch 99/100\n",
            "183/183 [==============================] - 0s 2ms/step - loss: 0.0999 - accuracy: 0.9731 - val_loss: 0.1151 - val_accuracy: 0.9642\n",
            "Epoch 100/100\n",
            "183/183 [==============================] - 0s 2ms/step - loss: 0.0985 - accuracy: 0.9735 - val_loss: 0.1133 - val_accuracy: 0.9650\n"
          ]
        }
      ],
      "source": [
        "# Neural Networks\n",
        "from keras.models import Sequential\n",
        "from keras.layers import Dense\n",
        "\n",
        "model = Sequential() \n",
        "model.add(Dense(128, activation='relu', input_dim=nf))\n",
        "model.add(Dense(1, activation='sigmoid')) \n",
        "model.compile(loss='binary_crossentropy', optimizer='adam', metrics=['accuracy']) \n",
        "model.summary()\n",
        "hist = model.fit(X_train, y_train, validation_data=(X_test, y_test), epochs=100, batch_size=100)\n"
      ]
    },
    {
      "cell_type": "code",
      "execution_count": null,
      "metadata": {
        "colab": {
          "base_uri": "https://localhost:8080/"
        },
        "id": "nn6ise2xnpjJ",
        "outputId": "f08c0ebd-ec99-44a7-cf46-e187e2f303b2"
      },
      "outputs": [
        {
          "data": {
            "text/plain": [
              "[]"
            ]
          },
          "execution_count": 32,
          "metadata": {},
          "output_type": "execute_result"
        },
        {
          "data": {
            "image/png": "[encoded data removed]",
            "text/plain": [
              "<Figure size 432x288 with 1 Axes>"
            ]
          },
          "metadata": {},
          "output_type": "display_data"
        }
      ],
      "source": [
        "import seaborn as sns\n",
        "import matplotlib.pyplot as plt\n",
        "%matplotlib inline\n",
        "\n",
        "sns.set()\n",
        "acc = hist.history['accuracy']\n",
        "val = hist.history['val_accuracy']\n",
        "epochs = range(1, len(acc) + 1)\n",
        "\n",
        "plt.plot(epochs, acc, '-', label='Training accuracy')\n",
        "plt.plot(epochs, val, ':', label='Validation accuracy')\n",
        "plt.title('Training and Validation Accuracy')\n",
        "plt.xlabel('Epoch')\n",
        "plt.ylabel('Accuracy')\n",
        "plt.legend(loc='lower right')\n",
        "plt.plot()"
      ]
    },
    {
      "cell_type": "code",
      "execution_count": null,
      "metadata": {
        "colab": {
          "base_uri": "https://localhost:8080/"
        },
        "id": "XVxIiTmHnzYU",
        "outputId": "c10ad517-070d-4090-e1e5-6998429465d6"
      },
      "outputs": [
        {
          "name": "stdout",
          "output_type": "stream",
          "text": [
            "191/191 [==============================] - 0s 867us/step\n",
            "True Positive(TP)  =  3402\n",
            "False Positive(FP) =  86\n",
            "True Negative(TN)  =  2474\n",
            "False Negative(FN) =  127\n",
            "Accuracy of the binary classification = 0.965\n"
          ]
        }
      ],
      "source": [
        "from sklearn.metrics import confusion_matrix\n",
        "predictions = model.predict(X_test) > 0.5\n",
        "cm = confusion_matrix(y_test, predictions)\n",
        "\n",
        "TN, FP, FN, TP = confusion_matrix(y_test, predictions).ravel()\n",
        "\n",
        "print('True Positive(TP)  = ', TP)\n",
        "print('False Positive(FP) = ', FP)\n",
        "print('True Negative(TN)  = ', TN)\n",
        "print('False Negative(FN) = ', FN)\n",
        "\n",
        "accuracy_keras =  (TP+TN) /(TP+FP+TN+FN)\n",
        "\n",
        "print('Accuracy of the binary classification = {:0.3f}'.format(accuracy_keras))"
      ]
    },
    {
      "cell_type": "code",
      "execution_count": null,
      "metadata": {
        "colab": {
          "background_save": true,
          "base_uri": "https://localhost:8080/"
        },
        "id": "OTxSQrfgcxcF",
        "outputId": "0ca3517c-9bf1-4950-f8a0-def2aee47fba"
      },
      "outputs": [
        {
          "name": "stdout",
          "output_type": "stream",
          "text": [
            "Model: \"sequential_2\"\n",
            "_________________________________________________________________\n",
            " Layer (type)                Output Shape              Param #   \n",
            "=================================================================\n",
            " dense_4 (Dense)             (None, 21)                462       \n",
            "                                                                 \n",
            " dense_5 (Dense)             (None, 20)                440       \n",
            "                                                                 \n",
            " dropout (Dropout)           (None, 20)                0         \n",
            "                                                                 \n",
            " dense_6 (Dense)             (None, 15)                315       \n",
            "                                                                 \n",
            " dropout_1 (Dropout)         (None, 15)                0         \n",
            "                                                                 \n",
            " dense_7 (Dense)             (None, 1)                 16        \n",
            "                                                                 \n",
            "=================================================================\n",
            "Total params: 1,233\n",
            "Trainable params: 1,233\n",
            "Non-trainable params: 0\n",
            "_________________________________________________________________\n",
            "Epoch 1/100\n",
            "183/183 [==============================] - 1s 3ms/step - loss: 0.3216 - accuracy: 0.8638 - val_loss: 0.1146 - val_accuracy: 0.9672\n",
            "Epoch 2/100\n",
            "183/183 [==============================] - 0s 2ms/step - loss: 0.1475 - accuracy: 0.9645 - val_loss: 0.1162 - val_accuracy: 0.9672\n",
            "Epoch 3/100\n",
            "183/183 [==============================] - 0s 2ms/step - loss: 0.1364 - accuracy: 0.9653 - val_loss: 0.1166 - val_accuracy: 0.9668\n",
            "Epoch 4/100\n",
            "183/183 [==============================] - 0s 2ms/step - loss: 0.1350 - accuracy: 0.9658 - val_loss: 0.1162 - val_accuracy: 0.9668\n",
            "Epoch 5/100\n",
            "183/183 [==============================] - 0s 2ms/step - loss: 0.1327 - accuracy: 0.9660 - val_loss: 0.1147 - val_accuracy: 0.9667\n",
            "Epoch 6/100\n",
            "183/183 [==============================] - 0s 2ms/step - loss: 0.1333 - accuracy: 0.9662 - val_loss: 0.1137 - val_accuracy: 0.9668\n",
            "Epoch 7/100\n",
            "183/183 [==============================] - 0s 2ms/step - loss: 0.1321 - accuracy: 0.9665 - val_loss: 0.1148 - val_accuracy: 0.9668\n",
            "Epoch 8/100\n",
            "183/183 [==============================] - 0s 2ms/step - loss: 0.1293 - accuracy: 0.9672 - val_loss: 0.1142 - val_accuracy: 0.9667\n",
            "Epoch 9/100\n",
            "183/183 [==============================] - 0s 2ms/step - loss: 0.1284 - accuracy: 0.9664 - val_loss: 0.1183 - val_accuracy: 0.9665\n",
            "Epoch 10/100\n",
            "183/183 [==============================] - 0s 2ms/step - loss: 0.1281 - accuracy: 0.9673 - val_loss: 0.1164 - val_accuracy: 0.9668\n",
            "Epoch 11/100\n",
            "183/183 [==============================] - 0s 2ms/step - loss: 0.1267 - accuracy: 0.9665 - val_loss: 0.1145 - val_accuracy: 0.9665\n",
            "Epoch 12/100\n",
            "183/183 [==============================] - 0s 2ms/step - loss: 0.1287 - accuracy: 0.9679 - val_loss: 0.1219 - val_accuracy: 0.9665\n",
            "Epoch 13/100\n",
            "183/183 [==============================] - 0s 2ms/step - loss: 0.1258 - accuracy: 0.9672 - val_loss: 0.1162 - val_accuracy: 0.9672\n",
            "Epoch 14/100\n",
            "183/183 [==============================] - 0s 2ms/step - loss: 0.1254 - accuracy: 0.9668 - val_loss: 0.1128 - val_accuracy: 0.9667\n",
            "Epoch 15/100\n",
            "183/183 [==============================] - 0s 2ms/step - loss: 0.1255 - accuracy: 0.9687 - val_loss: 0.1152 - val_accuracy: 0.9670\n",
            "Epoch 16/100\n",
            "183/183 [==============================] - 0s 2ms/step - loss: 0.1267 - accuracy: 0.9677 - val_loss: 0.1157 - val_accuracy: 0.9665\n",
            "Epoch 17/100\n",
            "183/183 [==============================] - 0s 2ms/step - loss: 0.1242 - accuracy: 0.9673 - val_loss: 0.1159 - val_accuracy: 0.9663\n",
            "Epoch 18/100\n",
            "183/183 [==============================] - 0s 2ms/step - loss: 0.1237 - accuracy: 0.9670 - val_loss: 0.1184 - val_accuracy: 0.9665\n",
            "Epoch 19/100\n",
            "183/183 [==============================] - 0s 2ms/step - loss: 0.1265 - accuracy: 0.9673 - val_loss: 0.1192 - val_accuracy: 0.9667\n",
            "Epoch 20/100\n",
            "183/183 [==============================] - 0s 2ms/step - loss: 0.1242 - accuracy: 0.9676 - val_loss: 0.1206 - val_accuracy: 0.9663\n",
            "Epoch 21/100\n",
            "183/183 [==============================] - 0s 2ms/step - loss: 0.1258 - accuracy: 0.9680 - val_loss: 0.1109 - val_accuracy: 0.9668\n",
            "Epoch 22/100\n",
            "183/183 [==============================] - 0s 2ms/step - loss: 0.1263 - accuracy: 0.9684 - val_loss: 0.1125 - val_accuracy: 0.9667\n",
            "Epoch 23/100\n",
            "183/183 [==============================] - 0s 2ms/step - loss: 0.1224 - accuracy: 0.9669 - val_loss: 0.1270 - val_accuracy: 0.9663\n",
            "Epoch 24/100\n",
            "183/183 [==============================] - 0s 2ms/step - loss: 0.1259 - accuracy: 0.9678 - val_loss: 0.1136 - val_accuracy: 0.9663\n",
            "Epoch 25/100\n",
            "183/183 [==============================] - 0s 2ms/step - loss: 0.1230 - accuracy: 0.9683 - val_loss: 0.1152 - val_accuracy: 0.9662\n",
            "Epoch 26/100\n",
            "183/183 [==============================] - 0s 2ms/step - loss: 0.1224 - accuracy: 0.9677 - val_loss: 0.1123 - val_accuracy: 0.9665\n",
            "Epoch 27/100\n",
            "183/183 [==============================] - 0s 2ms/step - loss: 0.1232 - accuracy: 0.9673 - val_loss: 0.1151 - val_accuracy: 0.9667\n",
            "Epoch 28/100\n",
            "183/183 [==============================] - 0s 2ms/step - loss: 0.1228 - accuracy: 0.9680 - val_loss: 0.1137 - val_accuracy: 0.9668\n",
            "Epoch 29/100\n",
            "183/183 [==============================] - 0s 2ms/step - loss: 0.1241 - accuracy: 0.9678 - val_loss: 0.1137 - val_accuracy: 0.9667\n",
            "Epoch 30/100\n",
            "183/183 [==============================] - 0s 2ms/step - loss: 0.1249 - accuracy: 0.9669 - val_loss: 0.1133 - val_accuracy: 0.9670\n",
            "Epoch 31/100\n",
            "183/183 [==============================] - 0s 2ms/step - loss: 0.1205 - accuracy: 0.9687 - val_loss: 0.1135 - val_accuracy: 0.9662\n",
            "Epoch 32/100\n",
            "183/183 [==============================] - 0s 2ms/step - loss: 0.1218 - accuracy: 0.9685 - val_loss: 0.1199 - val_accuracy: 0.9663\n",
            "Epoch 33/100\n",
            "183/183 [==============================] - 0s 2ms/step - loss: 0.1220 - accuracy: 0.9681 - val_loss: 0.1135 - val_accuracy: 0.9665\n",
            "Epoch 34/100\n",
            "183/183 [==============================] - 0s 2ms/step - loss: 0.1224 - accuracy: 0.9678 - val_loss: 0.1145 - val_accuracy: 0.9665\n",
            "Epoch 35/100\n",
            "183/183 [==============================] - 0s 2ms/step - loss: 0.1203 - accuracy: 0.9689 - val_loss: 0.1150 - val_accuracy: 0.9667\n",
            "Epoch 36/100\n",
            "183/183 [==============================] - 0s 2ms/step - loss: 0.1196 - accuracy: 0.9694 - val_loss: 0.1151 - val_accuracy: 0.9658\n",
            "Epoch 37/100\n",
            "183/183 [==============================] - 0s 2ms/step - loss: 0.1216 - accuracy: 0.9687 - val_loss: 0.1180 - val_accuracy: 0.9658\n",
            "Epoch 38/100\n",
            "183/183 [==============================] - 0s 2ms/step - loss: 0.1202 - accuracy: 0.9695 - val_loss: 0.1125 - val_accuracy: 0.9670\n",
            "Epoch 39/100\n",
            "183/183 [==============================] - 0s 2ms/step - loss: 0.1209 - accuracy: 0.9691 - val_loss: 0.1129 - val_accuracy: 0.9667\n",
            "Epoch 40/100\n",
            "183/183 [==============================] - 0s 2ms/step - loss: 0.1200 - accuracy: 0.9692 - val_loss: 0.1120 - val_accuracy: 0.9672\n",
            "Epoch 41/100\n",
            "183/183 [==============================] - 0s 2ms/step - loss: 0.1205 - accuracy: 0.9694 - val_loss: 0.1130 - val_accuracy: 0.9662\n",
            "Epoch 42/100\n",
            "183/183 [==============================] - 0s 2ms/step - loss: 0.1181 - accuracy: 0.9700 - val_loss: 0.1148 - val_accuracy: 0.9658\n",
            "Epoch 43/100\n",
            "183/183 [==============================] - 0s 2ms/step - loss: 0.1192 - accuracy: 0.9687 - val_loss: 0.1181 - val_accuracy: 0.9665\n",
            "Epoch 44/100\n",
            "183/183 [==============================] - 0s 2ms/step - loss: 0.1207 - accuracy: 0.9698 - val_loss: 0.1188 - val_accuracy: 0.9667\n",
            "Epoch 45/100\n",
            "183/183 [==============================] - 0s 2ms/step - loss: 0.1204 - accuracy: 0.9694 - val_loss: 0.1121 - val_accuracy: 0.9672\n",
            "Epoch 46/100\n",
            "183/183 [==============================] - 0s 2ms/step - loss: 0.1197 - accuracy: 0.9691 - val_loss: 0.1130 - val_accuracy: 0.9675\n",
            "Epoch 47/100\n",
            "183/183 [==============================] - 0s 2ms/step - loss: 0.1181 - accuracy: 0.9696 - val_loss: 0.1142 - val_accuracy: 0.9663\n",
            "Epoch 48/100\n",
            "183/183 [==============================] - 0s 2ms/step - loss: 0.1197 - accuracy: 0.9692 - val_loss: 0.1143 - val_accuracy: 0.9662\n",
            "Epoch 49/100\n",
            "183/183 [==============================] - 0s 2ms/step - loss: 0.1178 - accuracy: 0.9695 - val_loss: 0.1128 - val_accuracy: 0.9670\n",
            "Epoch 50/100\n",
            "183/183 [==============================] - 0s 2ms/step - loss: 0.1187 - accuracy: 0.9694 - val_loss: 0.1129 - val_accuracy: 0.9673\n",
            "Epoch 51/100\n",
            "183/183 [==============================] - 0s 2ms/step - loss: 0.1162 - accuracy: 0.9704 - val_loss: 0.1154 - val_accuracy: 0.9667\n",
            "Epoch 52/100\n",
            "183/183 [==============================] - 0s 2ms/step - loss: 0.1171 - accuracy: 0.9697 - val_loss: 0.1148 - val_accuracy: 0.9673\n",
            "Epoch 53/100\n",
            "183/183 [==============================] - 0s 2ms/step - loss: 0.1191 - accuracy: 0.9698 - val_loss: 0.1147 - val_accuracy: 0.9667\n",
            "Epoch 54/100\n",
            "183/183 [==============================] - 0s 2ms/step - loss: 0.1179 - accuracy: 0.9706 - val_loss: 0.1154 - val_accuracy: 0.9672\n",
            "Epoch 55/100\n",
            "183/183 [==============================] - 0s 2ms/step - loss: 0.1178 - accuracy: 0.9705 - val_loss: 0.1137 - val_accuracy: 0.9667\n",
            "Epoch 56/100\n",
            "183/183 [==============================] - 0s 2ms/step - loss: 0.1193 - accuracy: 0.9705 - val_loss: 0.1131 - val_accuracy: 0.9655\n",
            "Epoch 57/100\n",
            "183/183 [==============================] - 0s 2ms/step - loss: 0.1157 - accuracy: 0.9700 - val_loss: 0.1144 - val_accuracy: 0.9660\n",
            "Epoch 58/100\n",
            "183/183 [==============================] - 0s 2ms/step - loss: 0.1152 - accuracy: 0.9708 - val_loss: 0.1137 - val_accuracy: 0.9660\n",
            "Epoch 59/100\n",
            "183/183 [==============================] - 0s 2ms/step - loss: 0.1177 - accuracy: 0.9697 - val_loss: 0.1128 - val_accuracy: 0.9662\n",
            "Epoch 60/100\n",
            "183/183 [==============================] - 0s 2ms/step - loss: 0.1173 - accuracy: 0.9701 - val_loss: 0.1147 - val_accuracy: 0.9657\n",
            "Epoch 61/100\n",
            "183/183 [==============================] - 0s 2ms/step - loss: 0.1163 - accuracy: 0.9703 - val_loss: 0.1134 - val_accuracy: 0.9662\n",
            "Epoch 62/100\n",
            "183/183 [==============================] - 0s 2ms/step - loss: 0.1162 - accuracy: 0.9701 - val_loss: 0.1136 - val_accuracy: 0.9657\n",
            "Epoch 63/100\n",
            "183/183 [==============================] - 0s 2ms/step - loss: 0.1160 - accuracy: 0.9705 - val_loss: 0.1163 - val_accuracy: 0.9663\n",
            "Epoch 64/100\n",
            "183/183 [==============================] - 0s 2ms/step - loss: 0.1155 - accuracy: 0.9704 - val_loss: 0.1133 - val_accuracy: 0.9660\n",
            "Epoch 65/100\n",
            "183/183 [==============================] - 0s 2ms/step - loss: 0.1147 - accuracy: 0.9702 - val_loss: 0.1150 - val_accuracy: 0.9660\n",
            "Epoch 66/100\n",
            "183/183 [==============================] - 0s 2ms/step - loss: 0.1139 - accuracy: 0.9702 - val_loss: 0.1134 - val_accuracy: 0.9658\n",
            "Epoch 67/100\n",
            "183/183 [==============================] - 0s 2ms/step - loss: 0.1159 - accuracy: 0.9702 - val_loss: 0.1155 - val_accuracy: 0.9660\n",
            "Epoch 68/100\n",
            "183/183 [==============================] - 0s 2ms/step - loss: 0.1141 - accuracy: 0.9704 - val_loss: 0.1159 - val_accuracy: 0.9658\n",
            "Epoch 69/100\n",
            "183/183 [==============================] - 0s 2ms/step - loss: 0.1155 - accuracy: 0.9698 - val_loss: 0.1152 - val_accuracy: 0.9662\n",
            "Epoch 70/100\n",
            "183/183 [==============================] - 0s 2ms/step - loss: 0.1145 - accuracy: 0.9708 - val_loss: 0.1166 - val_accuracy: 0.9663\n",
            "Epoch 71/100\n",
            "183/183 [==============================] - 0s 2ms/step - loss: 0.1152 - accuracy: 0.9707 - val_loss: 0.1151 - val_accuracy: 0.9665\n",
            "Epoch 72/100\n",
            "183/183 [==============================] - 0s 2ms/step - loss: 0.1166 - accuracy: 0.9713 - val_loss: 0.1169 - val_accuracy: 0.9662\n",
            "Epoch 73/100\n",
            "183/183 [==============================] - 0s 2ms/step - loss: 0.1127 - accuracy: 0.9714 - val_loss: 0.1150 - val_accuracy: 0.9663\n",
            "Epoch 74/100\n",
            "183/183 [==============================] - 0s 2ms/step - loss: 0.1148 - accuracy: 0.9712 - val_loss: 0.1156 - val_accuracy: 0.9665\n",
            "Epoch 75/100\n",
            "183/183 [==============================] - 0s 2ms/step - loss: 0.1153 - accuracy: 0.9712 - val_loss: 0.1143 - val_accuracy: 0.9660\n",
            "Epoch 76/100\n",
            "183/183 [==============================] - 0s 2ms/step - loss: 0.1146 - accuracy: 0.9709 - val_loss: 0.1150 - val_accuracy: 0.9660\n",
            "Epoch 77/100\n",
            "183/183 [==============================] - 0s 2ms/step - loss: 0.1156 - accuracy: 0.9705 - val_loss: 0.1173 - val_accuracy: 0.9668\n",
            "Epoch 78/100\n",
            "183/183 [==============================] - 0s 2ms/step - loss: 0.1118 - accuracy: 0.9710 - val_loss: 0.1158 - val_accuracy: 0.9665\n",
            "Epoch 79/100\n",
            "183/183 [==============================] - 0s 2ms/step - loss: 0.1134 - accuracy: 0.9710 - val_loss: 0.1138 - val_accuracy: 0.9662\n",
            "Epoch 80/100\n",
            "183/183 [==============================] - 0s 2ms/step - loss: 0.1135 - accuracy: 0.9703 - val_loss: 0.1146 - val_accuracy: 0.9653\n",
            "Epoch 81/100\n",
            "183/183 [==============================] - 0s 2ms/step - loss: 0.1129 - accuracy: 0.9716 - val_loss: 0.1155 - val_accuracy: 0.9665\n",
            "Epoch 82/100\n",
            "183/183 [==============================] - 0s 2ms/step - loss: 0.1147 - accuracy: 0.9704 - val_loss: 0.1156 - val_accuracy: 0.9660\n",
            "Epoch 83/100\n",
            "183/183 [==============================] - 0s 2ms/step - loss: 0.1115 - accuracy: 0.9719 - val_loss: 0.1162 - val_accuracy: 0.9667\n",
            "Epoch 84/100\n",
            "183/183 [==============================] - 0s 2ms/step - loss: 0.1126 - accuracy: 0.9708 - val_loss: 0.1151 - val_accuracy: 0.9660\n",
            "Epoch 85/100\n",
            "183/183 [==============================] - 0s 2ms/step - loss: 0.1124 - accuracy: 0.9714 - val_loss: 0.1151 - val_accuracy: 0.9665\n",
            "Epoch 86/100\n",
            "183/183 [==============================] - 0s 2ms/step - loss: 0.1138 - accuracy: 0.9704 - val_loss: 0.1136 - val_accuracy: 0.9665\n",
            "Epoch 87/100\n",
            "183/183 [==============================] - 0s 2ms/step - loss: 0.1124 - accuracy: 0.9711 - val_loss: 0.1166 - val_accuracy: 0.9665\n",
            "Epoch 88/100\n",
            "183/183 [==============================] - 0s 2ms/step - loss: 0.1145 - accuracy: 0.9703 - val_loss: 0.1166 - val_accuracy: 0.9658\n",
            "Epoch 89/100\n",
            "183/183 [==============================] - 0s 2ms/step - loss: 0.1128 - accuracy: 0.9714 - val_loss: 0.1165 - val_accuracy: 0.9660\n",
            "Epoch 90/100\n",
            "183/183 [==============================] - 0s 2ms/step - loss: 0.1141 - accuracy: 0.9704 - val_loss: 0.1146 - val_accuracy: 0.9662\n",
            "Epoch 91/100\n",
            "183/183 [==============================] - 0s 2ms/step - loss: 0.1115 - accuracy: 0.9716 - val_loss: 0.1161 - val_accuracy: 0.9663\n",
            "Epoch 92/100\n",
            "183/183 [==============================] - 0s 2ms/step - loss: 0.1123 - accuracy: 0.9713 - val_loss: 0.1154 - val_accuracy: 0.9657\n",
            "Epoch 93/100\n",
            "183/183 [==============================] - 0s 2ms/step - loss: 0.1116 - accuracy: 0.9711 - val_loss: 0.1157 - val_accuracy: 0.9663\n",
            "Epoch 94/100\n",
            "183/183 [==============================] - 0s 2ms/step - loss: 0.1128 - accuracy: 0.9711 - val_loss: 0.1188 - val_accuracy: 0.9658\n",
            "Epoch 95/100\n",
            "183/183 [==============================] - 0s 2ms/step - loss: 0.1124 - accuracy: 0.9724 - val_loss: 0.1156 - val_accuracy: 0.9663\n",
            "Epoch 96/100\n",
            "183/183 [==============================] - 0s 2ms/step - loss: 0.1112 - accuracy: 0.9720 - val_loss: 0.1170 - val_accuracy: 0.9657\n",
            "Epoch 97/100\n",
            "183/183 [==============================] - 0s 2ms/step - loss: 0.1120 - accuracy: 0.9724 - val_loss: 0.1184 - val_accuracy: 0.9653\n",
            "Epoch 98/100\n",
            "183/183 [==============================] - 0s 2ms/step - loss: 0.1095 - accuracy: 0.9722 - val_loss: 0.1173 - val_accuracy: 0.9658\n",
            "Epoch 99/100\n",
            "183/183 [==============================] - 0s 2ms/step - loss: 0.1114 - accuracy: 0.9721 - val_loss: 0.1190 - val_accuracy: 0.9657\n",
            "Epoch 100/100\n",
            "183/183 [==============================] - 0s 2ms/step - loss: 0.1127 - accuracy: 0.9721 - val_loss: 0.1183 - val_accuracy: 0.9658\n"
          ]
        }
      ],
      "source": [
        "from keras.models import Sequential\n",
        "from keras.layers import Dense\n",
        "from keras.layers import Dropout\n",
        "\n",
        "model = Sequential() \n",
        "#model.add(Dense(128, activation='relu', input_dim=30))\n",
        "model.add(Dense(nf, input_dim=nf, activation='relu'))\n",
        "model.add(Dense(20, activation='relu'))\n",
        "model.add(Dropout(rate=0.25))\n",
        "model.add(Dense(15, activation='relu'))\n",
        "model.add(Dropout(rate=0.25))\n",
        "model.add(Dense(1, activation='sigmoid')) \n",
        "model.compile(loss='binary_crossentropy', optimizer='adam', metrics=['accuracy']) \n",
        "model.summary()\n",
        "hist = model.fit(X_train, y_train, validation_data=(X_test, y_test), epochs=100, batch_size=100)\n"
      ]
    },
    {
      "cell_type": "code",
      "execution_count": null,
      "metadata": {
        "colab": {
          "background_save": true
        },
        "id": "-LPhCIHAnkQa"
      },
      "outputs": [],
      "source": []
    },
    {
      "cell_type": "code",
      "execution_count": null,
      "metadata": {
        "colab": {
          "background_save": true
        },
        "id": "jYrW_l-tgIbM",
        "outputId": "8946a394-b705-4f68-af15-56eab870d5a5"
      },
      "outputs": [
        {
          "data": {
            "text/plain": [
              "[]"
            ]
          },
          "execution_count": 35,
          "metadata": {},
          "output_type": "execute_result"
        },
        {
          "data": {
            "image/png": "[encoded data removed]",
            "text/plain": [
              "<Figure size 432x288 with 1 Axes>"
            ]
          },
          "metadata": {},
          "output_type": "display_data"
        }
      ],
      "source": [
        "import seaborn as sns\n",
        "import matplotlib.pyplot as plt\n",
        "%matplotlib inline\n",
        "\n",
        "sns.set()\n",
        "acc = hist.history['accuracy']\n",
        "val = hist.history['val_accuracy']\n",
        "epochs = range(1, len(acc) + 1)\n",
        "\n",
        "plt.plot(epochs, acc, '-', label='Training accuracy')\n",
        "plt.plot(epochs, val, ':', label='Validation accuracy')\n",
        "plt.title('Training and Validation Accuracy')\n",
        "plt.xlabel('Epoch')\n",
        "plt.ylabel('Accuracy')\n",
        "plt.legend(loc='lower right')\n",
        "plt.plot()"
      ]
    },
    {
      "cell_type": "code",
      "execution_count": null,
      "metadata": {
        "colab": {
          "background_save": true
        },
        "id": "-C4jkl50kDJ3",
        "outputId": "0ddfa4bf-2a4c-4a9a-9034-db60e65fac64"
      },
      "outputs": [
        {
          "name": "stdout",
          "output_type": "stream",
          "text": [
            "191/191 [==============================] - 0s 870us/step\n",
            "True Positive(TP)  =  3415\n",
            "False Positive(FP) =  94\n",
            "True Negative(TN)  =  2466\n",
            "False Negative(FN) =  114\n",
            "Accuracy of the binary classification = 0.966\n"
          ]
        }
      ],
      "source": [
        "from sklearn.metrics import confusion_matrix\n",
        "predictions = model.predict(X_test) > 0.5\n",
        "cm = confusion_matrix(y_test, predictions)\n",
        "\n",
        "TN, FP, FN, TP = confusion_matrix(y_test, predictions).ravel()\n",
        "\n",
        "print('True Positive(TP)  = ', TP)\n",
        "print('False Positive(FP) = ', FP)\n",
        "print('True Negative(TN)  = ', TN)\n",
        "print('False Negative(FN) = ', FN)\n",
        "\n",
        "accuracy_keras =  (TP+TN) /(TP+FP+TN+FN)\n",
        "\n",
        "print('Accuracy of the binary classification = {:0.3f}'.format(accuracy_keras))"
      ]
    },
    {
      "cell_type": "code",
      "execution_count": null,
      "metadata": {
        "colab": {
          "background_save": true
        },
        "id": "gEM1lRC3gezF",
        "outputId": "0a6161e4-abad-49b6-b5d9-c8a5b207198d"
      },
      "outputs": [
        {
          "name": "stdout",
          "output_type": "stream",
          "text": [
            "191/191 [==============================] - 0s 790us/step\n"
          ]
        },
        {
          "data": {
            "text/plain": [
              "Text(89.18, 0.5, 'Actual label')"
            ]
          },
          "execution_count": 37,
          "metadata": {},
          "output_type": "execute_result"
        },
        {
          "data": {
            "image/png": "[encoded data removed]",
            "text/plain": [
              "<Figure size 432x288 with 1 Axes>"
            ]
          },
          "metadata": {},
          "output_type": "display_data"
        }
      ],
      "source": [
        "from sklearn.metrics import confusion_matrix\n",
        "\n",
        "y_predicted = model.predict(X_test) > 0.5\n",
        "mat = confusion_matrix(y_test, y_predicted)\n",
        "labels = ['0', '1']\n",
        "\n",
        "sns.heatmap(mat, square=True, annot=True, fmt='d', cbar=False, cmap='Blues',\n",
        "            xticklabels=labels, yticklabels=labels)\n",
        "\n",
        "plt.xlabel('Predicted label')\n",
        "plt.ylabel('Actual label')"
      ]
    },
    {
      "cell_type": "code",
      "execution_count": null,
      "metadata": {
        "colab": {
          "background_save": true
        },
        "id": "aGZEovrmhFW2",
        "outputId": "c7758113-646d-4c67-ee28-d6c024f7fbe7"
      },
      "outputs": [
        {
          "data": {
            "text/html": [
              "\n",
              "  <div id=\"df-d68cfa53-79e1-450e-b113-098c207d795a\">\n",
              "    <div class=\"colab-df-container\">\n",
              "      <div>\n",
              "<style scoped>\n",
              "    .dataframe tbody tr th:only-of-type {\n",
              "        vertical-align: middle;\n",
              "    }\n",
              "\n",
              "    .dataframe tbody tr th {\n",
              "        vertical-align: top;\n",
              "    }\n",
              "\n",
              "    .dataframe thead th {\n",
              "        text-align: right;\n",
              "    }\n",
              "</style>\n",
              "<table border=\"1\" class=\"dataframe\">\n",
              "  <thead>\n",
              "    <tr style=\"text-align: right;\">\n",
              "      <th></th>\n",
              "      <th>Accuracy</th>\n",
              "      <th>Precision</th>\n",
              "      <th>Recall</th>\n",
              "    </tr>\n",
              "  </thead>\n",
              "  <tbody>\n",
              "    <tr>\n",
              "      <th>Logistic Regression</th>\n",
              "      <td>0.967647</td>\n",
              "      <td>0.966279</td>\n",
              "      <td>0.977638</td>\n",
              "    </tr>\n",
              "    <tr>\n",
              "      <th>Support Vector Machines</th>\n",
              "      <td>0.967482</td>\n",
              "      <td>0.964579</td>\n",
              "      <td>0.979005</td>\n",
              "    </tr>\n",
              "    <tr>\n",
              "      <th>Decision Trees</th>\n",
              "      <td>0.941370</td>\n",
              "      <td>0.954661</td>\n",
              "      <td>0.944756</td>\n",
              "    </tr>\n",
              "    <tr>\n",
              "      <th>Random Forest</th>\n",
              "      <td>0.966497</td>\n",
              "      <td>0.965713</td>\n",
              "      <td>0.976225</td>\n",
              "    </tr>\n",
              "    <tr>\n",
              "      <th>Naive Bayes</th>\n",
              "      <td>0.966990</td>\n",
              "      <td>0.964579</td>\n",
              "      <td>0.978161</td>\n",
              "    </tr>\n",
              "    <tr>\n",
              "      <th>K-Nearest Neighbor</th>\n",
              "      <td>0.965183</td>\n",
              "      <td>0.965713</td>\n",
              "      <td>0.973993</td>\n",
              "    </tr>\n",
              "  </tbody>\n",
              "</table>\n",
              "</div>\n",
              "      <button class=\"colab-df-convert\" onclick=\"convertToInteractive('df-d68cfa53-79e1-450e-b113-098c207d795a')\"\n",
              "              title=\"Convert this dataframe to an interactive table.\"\n",
              "              style=\"display:none;\">\n",
              "        \n",
              "  <svg xmlns=\"http://www.w3.org/2000/svg\" height=\"24px\"viewBox=\"0 0 24 24\"\n",
              "       width=\"24px\">\n",
              "    <path d=\"M0 0h24v24H0V0z\" fill=\"none\"/>\n",
              "    <path d=\"M18.56 5.44l.94 2.06.94-2.06 2.06-.94-2.06-.94-.94-2.06-.94 2.06-2.06.94zm-11 1L8.5 8.5l.94-2.06 2.06-.94-2.06-.94L8.5 2.5l-.94 2.06-2.06.94zm10 10l.94 2.06.94-2.06 2.06-.94-2.06-.94-.94-2.06-.94 2.06-2.06.94z\"/><path d=\"M17.41 7.96l-1.37-1.37c-.4-.4-.92-.59-1.43-.59-.52 0-1.04.2-1.43.59L10.3 9.45l-7.72 7.72c-.78.78-.78 2.05 0 2.83L4 21.41c.39.39.9.59 1.41.59.51 0 1.02-.2 1.41-.59l7.78-7.78 2.81-2.81c.8-.78.8-2.07 0-2.86zM5.41 20L4 18.59l7.72-7.72 1.47 1.35L5.41 20z\"/>\n",
              "  </svg>\n",
              "      </button>\n",
              "      \n",
              "  <style>\n",
              "    .colab-df-container {\n",
              "      display:flex;\n",
              "      flex-wrap:wrap;\n",
              "      gap: 12px;\n",
              "    }\n",
              "\n",
              "    .colab-df-convert {\n",
              "      background-color: #E8F0FE;\n",
              "      border: none;\n",
              "      border-radius: 50%;\n",
              "      cursor: pointer;\n",
              "      display: none;\n",
              "      fill: #1967D2;\n",
              "      height: 32px;\n",
              "      padding: 0 0 0 0;\n",
              "      width: 32px;\n",
              "    }\n",
              "\n",
              "    .colab-df-convert:hover {\n",
              "      background-color: #E2EBFA;\n",
              "      box-shadow: 0px 1px 2px rgba(60, 64, 67, 0.3), 0px 1px 3px 1px rgba(60, 64, 67, 0.15);\n",
              "      fill: #174EA6;\n",
              "    }\n",
              "\n",
              "    [theme=dark] .colab-df-convert {\n",
              "      background-color: #3B4455;\n",
              "      fill: #D2E3FC;\n",
              "    }\n",
              "\n",
              "    [theme=dark] .colab-df-convert:hover {\n",
              "      background-color: #434B5C;\n",
              "      box-shadow: 0px 1px 3px 1px rgba(0, 0, 0, 0.15);\n",
              "      filter: drop-shadow(0px 1px 2px rgba(0, 0, 0, 0.3));\n",
              "      fill: #FFFFFF;\n",
              "    }\n",
              "  </style>\n",
              "\n",
              "      <script>\n",
              "        const buttonEl =\n",
              "          document.querySelector('#df-d68cfa53-79e1-450e-b113-098c207d795a button.colab-df-convert');\n",
              "        buttonEl.style.display =\n",
              "          google.colab.kernel.accessAllowed ? 'block' : 'none';\n",
              "\n",
              "        async function convertToInteractive(key) {\n",
              "          const element = document.querySelector('#df-d68cfa53-79e1-450e-b113-098c207d795a');\n",
              "          const dataTable =\n",
              "            await google.colab.kernel.invokeFunction('convertToInteractive',\n",
              "                                                     [key], {});\n",
              "          if (!dataTable) return;\n",
              "\n",
              "          const docLinkHtml = 'Like what you see? Visit the ' +\n",
              "            '<a target=\"_blank\" href=https://colab.research.google.com/notebooks/data_table.ipynb>data table notebook</a>'\n",
              "            + ' to learn more about interactive tables.';\n",
              "          element.innerHTML = '';\n",
              "          dataTable['output_type'] = 'display_data';\n",
              "          await google.colab.output.renderOutput(dataTable, element);\n",
              "          const docLink = document.createElement('div');\n",
              "          docLink.innerHTML = docLinkHtml;\n",
              "          element.appendChild(docLink);\n",
              "        }\n",
              "      </script>\n",
              "    </div>\n",
              "  </div>\n",
              "  "
            ],
            "text/plain": [
              "                         Accuracy  Precision    Recall\n",
              "Logistic Regression      0.967647   0.966279  0.977638\n",
              "Support Vector Machines  0.967482   0.964579  0.979005\n",
              "Decision Trees           0.941370   0.954661  0.944756\n",
              "Random Forest            0.966497   0.965713  0.976225\n",
              "Naive Bayes              0.966990   0.964579  0.978161\n",
              "K-Nearest Neighbor       0.965183   0.965713  0.973993"
            ]
          },
          "execution_count": 38,
          "metadata": {},
          "output_type": "execute_result"
        }
      ],
      "source": [
        "import pandas as pd\n",
        "\n",
        "df_model = pd.DataFrame(index=models.keys(), columns=['Accuracy', 'Precision', 'Recall'])\n",
        "df_model['Accuracy'] = accuracy.values()\n",
        "df_model['Precision'] = precision.values()\n",
        "df_model['Recall'] = recall.values()\n",
        "\n",
        "df_model"
      ]
    },
    {
      "cell_type": "code",
      "execution_count": null,
      "metadata": {
        "colab": {
          "background_save": true
        },
        "id": "J8SKqRHBoXQh",
        "outputId": "0885a7b2-f86b-47b0-c08f-e44782d87ea4"
      },
      "outputs": [
        {
          "data": {
            "image/png": "[encoded data removed]",
            "text/plain": [
              "<Figure size 432x288 with 1 Axes>"
            ]
          },
          "metadata": {},
          "output_type": "display_data"
        }
      ],
      "source": [
        "ax  = df_model.plot.bar(rot=45)\n",
        "ax.legend(ncol= len(models.keys()), bbox_to_anchor=(0, 1), loc='lower left', prop={'size': 14})\n",
        "plt.tight_layout()"
      ]
    },
    {
      "cell_type": "code",
      "execution_count": null,
      "metadata": {
        "colab": {
          "background_save": true
        },
        "id": "MZF19mSZy8Ic"
      },
      "outputs": [],
      "source": []
    }
  ],
  "metadata": {
    "colab": {
      "provenance": [],
      "include_colab_link": true
    },
    "kernelspec": {
      "display_name": "Python 3",
      "name": "python3"
    },
    "language_info": {
      "name": "python"
    }
  },
  "nbformat": 4,
  "nbformat_minor": 0
}